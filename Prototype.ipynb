{
 "cells": [
  {
   "cell_type": "code",
   "execution_count": 1,
   "id": "undefined-enemy",
   "metadata": {},
   "outputs": [],
   "source": [
    "import re\n",
    "from functools import reduce\n",
    "from collections import Counter\n",
    "import pandas as pd\n",
    "import numpy as np\n",
    "import matplotlib.pyplot as plt\n",
    "from sklearn.model_selection import train_test_split\n",
    "from sklearn.metrics import accuracy_score"
   ]
  },
  {
   "cell_type": "markdown",
   "id": "worse-sheet",
   "metadata": {},
   "source": [
    "### Pre-Processing"
   ]
  },
  {
   "cell_type": "code",
   "execution_count": 2,
   "id": "active-mileage",
   "metadata": {},
   "outputs": [],
   "source": [
    "batch_size = 300\n",
    "vocab_size = 20000"
   ]
  },
  {
   "cell_type": "code",
   "execution_count": 3,
   "id": "bronze-diary",
   "metadata": {},
   "outputs": [
    {
     "data": {
      "text/html": [
       "<div>\n",
       "<style scoped>\n",
       "    .dataframe tbody tr th:only-of-type {\n",
       "        vertical-align: middle;\n",
       "    }\n",
       "\n",
       "    .dataframe tbody tr th {\n",
       "        vertical-align: top;\n",
       "    }\n",
       "\n",
       "    .dataframe thead th {\n",
       "        text-align: right;\n",
       "    }\n",
       "</style>\n",
       "<table border=\"1\" class=\"dataframe\">\n",
       "  <thead>\n",
       "    <tr style=\"text-align: right;\">\n",
       "      <th></th>\n",
       "      <th>review</th>\n",
       "      <th>sentiment</th>\n",
       "    </tr>\n",
       "  </thead>\n",
       "  <tbody>\n",
       "    <tr>\n",
       "      <th>0</th>\n",
       "      <td>One of the other reviewers has mentioned that ...</td>\n",
       "      <td>1</td>\n",
       "    </tr>\n",
       "    <tr>\n",
       "      <th>1</th>\n",
       "      <td>A wonderful little production. &lt;br /&gt;&lt;br /&gt;The...</td>\n",
       "      <td>1</td>\n",
       "    </tr>\n",
       "    <tr>\n",
       "      <th>2</th>\n",
       "      <td>I thought this was a wonderful way to spend ti...</td>\n",
       "      <td>1</td>\n",
       "    </tr>\n",
       "    <tr>\n",
       "      <th>3</th>\n",
       "      <td>Basically there's a family where a little boy ...</td>\n",
       "      <td>0</td>\n",
       "    </tr>\n",
       "    <tr>\n",
       "      <th>4</th>\n",
       "      <td>Petter Mattei's \"Love in the Time of Money\" is...</td>\n",
       "      <td>1</td>\n",
       "    </tr>\n",
       "  </tbody>\n",
       "</table>\n",
       "</div>"
      ],
      "text/plain": [
       "                                              review  sentiment\n",
       "0  One of the other reviewers has mentioned that ...          1\n",
       "1  A wonderful little production. <br /><br />The...          1\n",
       "2  I thought this was a wonderful way to spend ti...          1\n",
       "3  Basically there's a family where a little boy ...          0\n",
       "4  Petter Mattei's \"Love in the Time of Money\" is...          1"
      ]
     },
     "execution_count": 3,
     "metadata": {},
     "output_type": "execute_result"
    }
   ],
   "source": [
    "df = pd.read_csv('IMDB Dataset.csv')\n",
    "df['sentiment'] = (df['sentiment'] == 'positive').astype(int)\n",
    "df.head()"
   ]
  },
  {
   "cell_type": "code",
   "execution_count": 4,
   "id": "unnecessary-artist",
   "metadata": {},
   "outputs": [
    {
     "name": "stdout",
     "output_type": "stream",
     "text": [
      "average word count: 231.15694\n"
     ]
    }
   ],
   "source": [
    "print(f\"average word count: {np.mean(df['review'].apply(lambda x: len(x.split())))}\")"
   ]
  },
  {
   "cell_type": "code",
   "execution_count": 5,
   "id": "coordinate-prayer",
   "metadata": {},
   "outputs": [],
   "source": [
    "# clean a string and get the vocab words from it\n",
    "def get_words(string):\n",
    "    string = string.lower().replace('<br />', ' ') # <br /> tags frequently appear, remove them\n",
    "    return re.findall(r'[a-z]+', string)\n",
    "\n",
    "# create and clean the vocabulary\n",
    "text_corpus = ' '.join(df['review'])\n",
    "words = get_words(text_corpus)\n",
    "\n",
    "# take the x most common words, otherwise we get a vocab of 100000\n",
    "word_counts = Counter(words)\n",
    "words = sorted(word_counts.items(), reverse=True, key=lambda x: x[1])[:vocab_size-4]\n",
    "words = list(list(zip(*words))[0]) # remove the counts\n",
    "words = ['<MASK>', '<UNK>', '<START>', '<END>'] + words # add the tokens"
   ]
  },
  {
   "cell_type": "code",
   "execution_count": 6,
   "id": "burning-exploration",
   "metadata": {},
   "outputs": [
    {
     "name": "stdout",
     "output_type": "stream",
     "text": [
      "number of unique words: 20000\n"
     ]
    }
   ],
   "source": [
    "# create the dictionaries to store the vocab\n",
    "vocab_idx = {}\n",
    "idx_vocab = {}\n",
    "for i, word in enumerate(words):\n",
    "    if word not in vocab_idx:\n",
    "        vocab_idx[word] = i\n",
    "        idx_vocab[i] = word\n",
    "print(f\"number of unique words: {len(vocab_idx)}\")"
   ]
  },
  {
   "cell_type": "code",
   "execution_count": 7,
   "id": "vocational-throat",
   "metadata": {},
   "outputs": [],
   "source": [
    "# convert a string to a list of indexes of its words\n",
    "# also add start and end tokens along with right padding\n",
    "def string_to_idxs(string):\n",
    "    idxs = list(map(lambda x: vocab_idx[x] if x in vocab_idx else 1, get_words(string)))\n",
    "    idxs = [2] + idxs[-(batch_size-2):] + [3] # crop to the batch_size and add the start and end tokens\n",
    "    padding = np.zeros((batch_size - len(idxs))) + 0\n",
    "    idxs = np.concatenate([idxs, padding]).astype(int)\n",
    "    return idxs"
   ]
  },
  {
   "cell_type": "code",
   "execution_count": 8,
   "id": "ahead-export",
   "metadata": {},
   "outputs": [],
   "source": [
    "def index_to_string(idxes):\n",
    "    return ' '.join(list(map(lambda x: idx_vocab[x], idxes)))"
   ]
  },
  {
   "cell_type": "code",
   "execution_count": 9,
   "id": "recognized-anchor",
   "metadata": {},
   "outputs": [
    {
     "data": {
      "text/plain": [
       "0        [2, 32, 3176, 35, 28, 207, 17, 13, 9, 616, 50,...\n",
       "1        [2, 6, 393, 123, 353, 4, 1370, 2952, 9, 56, 17...\n",
       "2        [2, 12, 194, 13, 16, 6, 393, 98, 8, 1141, 60, ...\n",
       "3        [2, 679, 42, 15, 6, 229, 118, 6, 123, 400, 332...\n",
       "4        [2, 1, 10477, 15, 113, 11, 4, 60, 7, 292, 9, 6...\n",
       "                               ...                        \n",
       "49995    [2, 12, 194, 13, 18, 120, 6, 179, 207, 52, 297...\n",
       "49996    [2, 77, 114, 77, 411, 77, 117, 3007, 961, 4, 6...\n",
       "49997    [2, 12, 233, 6, 3398, 4364, 11, 1, 8165, 5462,...\n",
       "49998    [2, 12, 141, 170, 8, 30, 8, 2983, 20, 4, 919, ...\n",
       "49999    [2, 59, 31, 5822, 4, 324, 2082, 101, 8, 32, 30...\n",
       "Name: idxed_review, Length: 50000, dtype: object"
      ]
     },
     "execution_count": 9,
     "metadata": {},
     "output_type": "execute_result"
    }
   ],
   "source": [
    "# create a column that represents reviews a list of the words' indexes in the vocab\n",
    "df['idxed_review'] = df['review'].apply(string_to_idxs)\n",
    "df['idxed_review']"
   ]
  },
  {
   "cell_type": "markdown",
   "id": "banned-termination",
   "metadata": {},
   "source": [
    "#### Build training and test set\n",
    "Training set has no closures and is a language modelling task\n",
    "\n",
    "Test set has the closures and is a classification task"
   ]
  },
  {
   "cell_type": "code",
   "execution_count": 10,
   "id": "accepting-consultancy",
   "metadata": {},
   "outputs": [],
   "source": [
    "# turn the review column into a multi dimensional array\n",
    "review_array = np.concatenate(df['idxed_review']).reshape(df.shape[0], batch_size)"
   ]
  },
  {
   "cell_type": "code",
   "execution_count": 11,
   "id": "virtual-conversion",
   "metadata": {},
   "outputs": [],
   "source": [
    "X_train, X_test, y_train, y_test = train_test_split(review_array, np.array(df['sentiment']), test_size=0.1)"
   ]
  },
  {
   "cell_type": "code",
   "execution_count": 12,
   "id": "noble-welding",
   "metadata": {},
   "outputs": [
    {
     "data": {
      "text/plain": [
       "array([[ 155,   24,  183, ...,  311, 6829,    3],\n",
       "       [  31,    7,    1, ...,    0,    0,    0],\n",
       "       [  13,   31,  115, ...,   78,   13,    3],\n",
       "       ...,\n",
       "       [   6, 6828,    5, ...,    0,    0,    0],\n",
       "       [  11, 1386, 4951, ...,    4, 4708,    3],\n",
       "       [  13,   18,   16, ...,    0,    0,    0]])"
      ]
     },
     "execution_count": 12,
     "metadata": {},
     "output_type": "execute_result"
    }
   ],
   "source": [
    "# the label for each word is the next word in the seqeunce, we also add a pad token at the end to keep the dimensions the same\n",
    "y_train = np.concatenate([X_train[:, 1:], np.ones((X_train.shape[0], 0)).astype(int)], axis=1)\n",
    "y_train"
   ]
  },
  {
   "cell_type": "code",
   "execution_count": 13,
   "id": "imported-leader",
   "metadata": {},
   "outputs": [
    {
     "data": {
      "text/plain": [
       "array([[   2,  155,   24, ...,  311, 6829,    3],\n",
       "       [   2,   31,    7, ...,    0,    0,    0],\n",
       "       [   2,   13,   31, ...,   78,   13,    3],\n",
       "       ...,\n",
       "       [   2,    6, 6828, ...,    0,    0,    0],\n",
       "       [   2,   11, 1386, ...,    4, 4708,    3],\n",
       "       [   2,   13,   18, ...,    0,    0,    0]])"
      ]
     },
     "execution_count": 13,
     "metadata": {},
     "output_type": "execute_result"
    }
   ],
   "source": [
    "X_train"
   ]
  },
  {
   "cell_type": "markdown",
   "id": "environmental-words",
   "metadata": {},
   "source": [
    "### Model Building\n",
    "- First train an LSTM as a language model, then have it solve closures to get the predictions\n",
    "- Because the data would be too large to fit in memory if we converted it to one hot, we have to instead train using a generator (takes integers representing words and outputs a one hot vector\n",
    "- Clozure to start with: \"X + Overall this movie was (poor/great)\"  (figure out how to do Bidirectional LSTM without it just predicting \\<MASK\\> later)"
   ]
  },
  {
   "cell_type": "code",
   "execution_count": 14,
   "id": "apparent-scheduling",
   "metadata": {},
   "outputs": [
    {
     "data": {
      "text/plain": [
       "[PhysicalDevice(name='/physical_device:GPU:0', device_type='GPU')]"
      ]
     },
     "execution_count": 14,
     "metadata": {},
     "output_type": "execute_result"
    }
   ],
   "source": [
    "import tensorflow as tf\n",
    "from tensorflow.keras import Sequential\n",
    "from tensorflow.keras.layers import Embedding, LSTM, Dense, TimeDistributed, Dropout\n",
    "tf.config.list_physical_devices('GPU') # check gpu is in use"
   ]
  },
  {
   "cell_type": "code",
   "execution_count": 15,
   "id": "remarkable-television",
   "metadata": {},
   "outputs": [],
   "source": [
    "# Create the generator class, it yields one review and its labels at a time\n",
    "class SampleSequence(tf.keras.utils.Sequence): # extend Seqeunce so that we can use multiprocessing\n",
    "    def __init__(self, X_train):\n",
    "        self.X = X_train\n",
    "        \n",
    "    def __len__(self):\n",
    "        return self.X.shape[0]\n",
    "        \n",
    "    # get item at the index specified\n",
    "    def __getitem__(self, idx):\n",
    "        # the pad_token is used for creating the labels\n",
    "        pad_token = np.zeros((1, vocab_size))\n",
    "        pad_token[0, 0] = 1\n",
    "        \n",
    "        x_sample = self.X[idx, :].reshape(1, batch_size) # the embedding layer automatically handles integers\n",
    "        y_sample = np.zeros((batch_size, vocab_size)) # the labels need to be manually converted to one hot\n",
    "        for i in range(batch_size - 1):\n",
    "            y_sample[i, self.X[idx, i+1]] = 1  # the label at step1 is the word at step2\n",
    "        y_sample[-1, :] = pad_token # add the pad token for the 300th step's label\n",
    "        y_sample = y_sample.reshape(1, batch_size, vocab_size)\n",
    "            \n",
    "        return (x_sample, y_sample)"
   ]
  },
  {
   "cell_type": "code",
   "execution_count": 16,
   "id": "unexpected-extraction",
   "metadata": {},
   "outputs": [],
   "source": [
    "# Do the same thing but with a tensorflow dataset implementation, this allows parralelization \n",
    "# first define the mapping function to convert a tensor of X_train into an X, y sample\n",
    "pad_token = np.zeros((1, vocab_size))\n",
    "pad_token[0, 0] = 1\n",
    "pad_token = tf.constant(pad_token, dtype='float32')\n",
    "def text_to_sample(x_tensor): # takes a single sample and converts it to input text and ouput labels\n",
    "    y_one_hot = tf.one_hot(x_tensor, vocab_size, axis=-1) # axos=-1 means we get a tensor of shape (features, vocab_size)\n",
    "    y_one_hot = y_one_hot[1:, :] # shift back one\n",
    "    y_one_hot = tf.concat([y_one_hot, pad_token], axis=0) # add pad token at the end \n",
    "    x_tensor = tf.reshape(x_tensor, [1, batch_size])\n",
    "    return (x_tensor, y_one_hot)\n",
    "\n",
    "# create training Dataset, apply the function to create the pipeline\n",
    "def create_dataset(data):\n",
    "    dataset = tf.data.Dataset.from_tensor_slices(data)\n",
    "    dataset = dataset.map(text_to_sample)\n",
    "    return dataset\n",
    "\n",
    "training = create_dataset(X_train)\n",
    "testing = create_dataset(X_test)"
   ]
  },
  {
   "cell_type": "code",
   "execution_count": 17,
   "id": "bibliographic-passage",
   "metadata": {},
   "outputs": [
    {
     "name": "stdout",
     "output_type": "stream",
     "text": [
      "Model: \"sequential\"\n",
      "_________________________________________________________________\n",
      "Layer (type)                 Output Shape              Param #   \n",
      "=================================================================\n",
      "embedding (Embedding)        (None, 300, 500)          10000000  \n",
      "_________________________________________________________________\n",
      "lstm (LSTM)                  (None, 300, 500)          2002000   \n",
      "_________________________________________________________________\n",
      "lstm_1 (LSTM)                (None, 300, 500)          2002000   \n",
      "_________________________________________________________________\n",
      "dropout (Dropout)            (None, 300, 500)          0         \n",
      "_________________________________________________________________\n",
      "time_distributed (TimeDistri (None, 300, 20000)        10020000  \n",
      "=================================================================\n",
      "Total params: 24,024,000\n",
      "Trainable params: 24,024,000\n",
      "Non-trainable params: 0\n",
      "_________________________________________________________________\n"
     ]
    }
   ],
   "source": [
    "# Create the model, eventually this should be bi-directional\n",
    "# This architecture was borrowed from here: https://adventuresinmachinelearning.com/keras-lstm-tutorial/\n",
    "model = Sequential()\n",
    "model.add(Embedding(vocab_size, 500, input_length=batch_size, mask_zero=True))\n",
    "model.add(LSTM(500, return_sequences=True,\n",
    "              activation='tanh', recurrent_activation='sigmoid',\n",
    "              dropout=0, recurrent_dropout=0))\n",
    "model.add(LSTM(500, return_sequences=True,\n",
    "              activation='tanh', recurrent_activation='sigmoid',\n",
    "              dropout=0, recurrent_dropout=0))\n",
    "model.add(Dropout(0.5))\n",
    "model.add(TimeDistributed(Dense(20000, activation='softmax')))\n",
    "model.compile(loss='categorical_crossentropy', metrics=['categorical_accuracy'],\n",
    "              optimizer=tf.keras.optimizers.Adam(learning_rate=0.0001, beta_1=0.9, beta_2=0.999))\n",
    "model.summary()"
   ]
  },
  {
   "cell_type": "code",
   "execution_count": 28,
   "id": "weekly-worker",
   "metadata": {},
   "outputs": [
    {
     "name": "stdout",
     "output_type": "stream",
     "text": [
      "Train for 45000 steps, validate for 5000 steps\n",
      "Epoch 1/50\n",
      "45000/45000 [==============================] - 3801s 84ms/step - loss: 3.2874 - categorical_accuracy: 0.1894 - val_loss: 3.2041 - val_categorical_accuracy: 0.1981\n",
      "Epoch 2/50\n",
      "45000/45000 [==============================] - 3750s 83ms/step - loss: 3.2624 - categorical_accuracy: 0.1928 - val_loss: 3.1838 - val_categorical_accuracy: 0.2009\n",
      "Epoch 3/50\n",
      "45000/45000 [==============================] - 3831s 85ms/step - loss: 3.2403 - categorical_accuracy: 0.1959 - val_loss: 3.1662 - val_categorical_accuracy: 0.2033\n",
      "Epoch 4/50\n",
      "45000/45000 [==============================] - 3836s 85ms/step - loss: 3.2213 - categorical_accuracy: 0.1987 - val_loss: 3.1509 - val_categorical_accuracy: 0.2059\n",
      "Epoch 5/50\n",
      "45000/45000 [==============================] - 3828s 85ms/step - loss: 3.2034 - categorical_accuracy: 0.2012 - val_loss: 3.1376 - val_categorical_accuracy: 0.2075\n",
      "Epoch 6/50\n",
      "45000/45000 [==============================] - 3824s 85ms/step - loss: 3.1869 - categorical_accuracy: 0.2034 - val_loss: 3.1276 - val_categorical_accuracy: 0.2092\n",
      "Epoch 7/50\n",
      "45000/45000 [==============================] - 3828s 85ms/step - loss: 3.1722 - categorical_accuracy: 0.2057 - val_loss: 3.1163 - val_categorical_accuracy: 0.2112\n",
      "Epoch 8/50\n",
      "45000/45000 [==============================] - 3836s 85ms/step - loss: 3.1585 - categorical_accuracy: 0.2077 - val_loss: 3.1093 - val_categorical_accuracy: 0.2125\n",
      "Epoch 9/50\n",
      "45000/45000 [==============================] - 3778s 84ms/step - loss: 3.1458 - categorical_accuracy: 0.2096 - val_loss: 3.1020 - val_categorical_accuracy: 0.2137\n",
      "Epoch 10/50\n",
      "45000/45000 [==============================] - 3801s 84ms/step - loss: 3.1335 - categorical_accuracy: 0.2112 - val_loss: 3.0953 - val_categorical_accuracy: 0.2150\n",
      "Epoch 11/50\n",
      "45000/45000 [==============================] - 3817s 85ms/step - loss: 3.1218 - categorical_accuracy: 0.2130 - val_loss: 3.0894 - val_categorical_accuracy: 0.2161\n",
      "Epoch 12/50\n",
      "45000/45000 [==============================] - 3835s 85ms/step - loss: 3.1107 - categorical_accuracy: 0.2147 - val_loss: 3.0850 - val_categorical_accuracy: 0.2170\n",
      "Epoch 13/50\n",
      "45000/45000 [==============================] - 3859s 86ms/step - loss: 3.1000 - categorical_accuracy: 0.2163 - val_loss: 3.0812 - val_categorical_accuracy: 0.2173\n",
      "Epoch 14/50\n",
      "45000/45000 [==============================] - 3884s 86ms/step - loss: 3.0902 - categorical_accuracy: 0.2177 - val_loss: 3.0781 - val_categorical_accuracy: 0.2181\n",
      "Epoch 15/50\n",
      "45000/45000 [==============================] - 3823s 85ms/step - loss: 3.0810 - categorical_accuracy: 0.2191 - val_loss: 3.0753 - val_categorical_accuracy: 0.2187\n",
      "Epoch 16/50\n",
      "45000/45000 [==============================] - 3886s 86ms/step - loss: 3.0717 - categorical_accuracy: 0.2206 - val_loss: 3.0733 - val_categorical_accuracy: 0.2192\n",
      "Epoch 17/50\n",
      "45000/45000 [==============================] - 3934s 87ms/step - loss: 3.0627 - categorical_accuracy: 0.2219 - val_loss: 3.0721 - val_categorical_accuracy: 0.2196\n",
      "Epoch 18/50\n",
      "45000/45000 [==============================] - 3946s 88ms/step - loss: 3.0539 - categorical_accuracy: 0.2230 - val_loss: 3.0718 - val_categorical_accuracy: 0.2197\n",
      "Epoch 19/50\n",
      "45000/45000 [==============================] - 3948s 88ms/step - loss: 3.0456 - categorical_accuracy: 0.2244 - val_loss: 3.0706 - val_categorical_accuracy: 0.2201\n",
      "Epoch 20/50\n",
      "45000/45000 [==============================] - 3950s 88ms/step - loss: 3.0374 - categorical_accuracy: 0.2256 - val_loss: 3.0694 - val_categorical_accuracy: 0.2203\n",
      "Epoch 21/50\n",
      "45000/45000 [==============================] - 3955s 88ms/step - loss: 3.0292 - categorical_accuracy: 0.2267 - val_loss: 3.0701 - val_categorical_accuracy: 0.2204\n",
      "Epoch 22/50\n",
      "45000/45000 [==============================] - 3954s 88ms/step - loss: 3.0214 - categorical_accuracy: 0.2278 - val_loss: 3.0696 - val_categorical_accuracy: 0.2208\n",
      "Epoch 23/50\n",
      "45000/45000 [==============================] - 3954s 88ms/step - loss: 3.0134 - categorical_accuracy: 0.2290 - val_loss: 3.0698 - val_categorical_accuracy: 0.2209\n",
      "Epoch 24/50\n",
      "45000/45000 [==============================] - 3986s 89ms/step - loss: 3.0057 - categorical_accuracy: 0.2302 - val_loss: 3.0711 - val_categorical_accuracy: 0.2208\n",
      "Epoch 25/50\n",
      "45000/45000 [==============================] - 3960s 88ms/step - loss: 2.9982 - categorical_accuracy: 0.2312 - val_loss: 3.0726 - val_categorical_accuracy: 0.2211\n",
      "Epoch 26/50\n",
      "45000/45000 [==============================] - 3961s 88ms/step - loss: 2.9911 - categorical_accuracy: 0.2324 - val_loss: 3.0740 - val_categorical_accuracy: 0.2209\n",
      "Epoch 27/50\n",
      "45000/45000 [==============================] - 3961s 88ms/step - loss: 2.9836 - categorical_accuracy: 0.2334 - val_loss: 3.0757 - val_categorical_accuracy: 0.2207\n",
      "Epoch 28/50\n",
      "45000/45000 [==============================] - 3960s 88ms/step - loss: 2.9762 - categorical_accuracy: 0.2345 - val_loss: 3.0773 - val_categorical_accuracy: 0.2208\n",
      "Epoch 29/50\n",
      "45000/45000 [==============================] - 3962s 88ms/step - loss: 2.9696 - categorical_accuracy: 0.2353 - val_loss: 3.0800 - val_categorical_accuracy: 0.2210\n",
      "Epoch 30/50\n",
      "45000/45000 [==============================] - 3967s 88ms/step - loss: 2.9626 - categorical_accuracy: 0.2366 - val_loss: 3.0838 - val_categorical_accuracy: 0.2206\n",
      "Epoch 31/50\n",
      "45000/45000 [==============================] - 3957s 88ms/step - loss: 2.9555 - categorical_accuracy: 0.2376 - val_loss: 3.0870 - val_categorical_accuracy: 0.2209\n",
      "Epoch 32/50\n",
      "45000/45000 [==============================] - 3966s 88ms/step - loss: 2.9491 - categorical_accuracy: 0.2385 - val_loss: 3.0898 - val_categorical_accuracy: 0.2202\n",
      "Epoch 33/50\n",
      "45000/45000 [==============================] - 3969s 88ms/step - loss: 2.9424 - categorical_accuracy: 0.2394 - val_loss: 3.0939 - val_categorical_accuracy: 0.2202\n",
      "Epoch 34/50\n",
      "45000/45000 [==============================] - 3967s 88ms/step - loss: 2.9360 - categorical_accuracy: 0.2404 - val_loss: 3.0962 - val_categorical_accuracy: 0.2204\n",
      "Epoch 35/50\n",
      "45000/45000 [==============================] - 3968s 88ms/step - loss: 2.9300 - categorical_accuracy: 0.2414 - val_loss: 3.0994 - val_categorical_accuracy: 0.2201\n",
      "Epoch 36/50\n",
      "45000/45000 [==============================] - 3970s 88ms/step - loss: 2.9234 - categorical_accuracy: 0.2422 - val_loss: 3.1047 - val_categorical_accuracy: 0.2195\n",
      "Epoch 37/50\n",
      "45000/45000 [==============================] - 3962s 88ms/step - loss: 2.9171 - categorical_accuracy: 0.2432 - val_loss: 3.1072 - val_categorical_accuracy: 0.2193\n",
      "Epoch 38/50\n",
      "45000/45000 [==============================] - 3971s 88ms/step - loss: 2.9113 - categorical_accuracy: 0.2442 - val_loss: 3.1128 - val_categorical_accuracy: 0.2193\n",
      "Epoch 39/50\n",
      "45000/45000 [==============================] - 3967s 88ms/step - loss: 2.9051 - categorical_accuracy: 0.2451 - val_loss: 3.1168 - val_categorical_accuracy: 0.2188\n",
      "Epoch 40/50\n",
      "45000/45000 [==============================] - 3967s 88ms/step - loss: 2.8989 - categorical_accuracy: 0.2459 - val_loss: 3.1202 - val_categorical_accuracy: 0.2184\n",
      "Epoch 41/50\n",
      "45000/45000 [==============================] - 3970s 88ms/step - loss: 2.8927 - categorical_accuracy: 0.2468 - val_loss: 3.1261 - val_categorical_accuracy: 0.2181\n",
      "Epoch 42/50\n",
      "45000/45000 [==============================] - 3964s 88ms/step - loss: 2.8871 - categorical_accuracy: 0.2477 - val_loss: 3.1295 - val_categorical_accuracy: 0.2176\n",
      "Epoch 43/50\n",
      "45000/45000 [==============================] - 3960s 88ms/step - loss: 2.8812 - categorical_accuracy: 0.2486 - val_loss: 3.1361 - val_categorical_accuracy: 0.2173\n",
      "Epoch 44/50\n",
      "45000/45000 [==============================] - 3968s 88ms/step - loss: 2.8761 - categorical_accuracy: 0.2494 - val_loss: 3.1395 - val_categorical_accuracy: 0.2170\n",
      "Epoch 45/50\n",
      "45000/45000 [==============================] - 3991s 89ms/step - loss: 2.8702 - categorical_accuracy: 0.2504 - val_loss: 3.1419 - val_categorical_accuracy: 0.2168\n",
      "Epoch 46/50\n",
      "45000/45000 [==============================] - 4192s 93ms/step - loss: 2.8651 - categorical_accuracy: 0.2511 - val_loss: 3.1518 - val_categorical_accuracy: 0.2167\n",
      "Epoch 47/50\n",
      "45000/45000 [==============================] - 4200s 93ms/step - loss: 2.8596 - categorical_accuracy: 0.2519 - val_loss: 3.1560 - val_categorical_accuracy: 0.2162\n",
      "Epoch 48/50\n",
      "45000/45000 [==============================] - 3833s 85ms/step - loss: 2.8546 - categorical_accuracy: 0.2528 - val_loss: 3.1646 - val_categorical_accuracy: 0.2160\n",
      "Epoch 49/50\n",
      "45000/45000 [==============================] - 4370s 97ms/step - loss: 2.8490 - categorical_accuracy: 0.2535 - val_loss: 3.1693 - val_categorical_accuracy: 0.2158\n",
      "Epoch 50/50\n",
      "45000/45000 [==============================] - 4598s 102ms/step - loss: 2.8443 - categorical_accuracy: 0.2543 - val_loss: 3.1700 - val_categorical_accuracy: 0.2153\n"
     ]
    }
   ],
   "source": [
    "# With CUDNN implementation it runs faster, does take a lot of time to begin though\n",
    "history = model.fit(x=create_dataset(X_train), validation_data=create_dataset(X_test), epochs=50, \n",
    "                    use_multiprocessing=True, # allows multiple cpu cores to work on generating data samples at once\n",
    "                    max_queue_size=50, # size of the queue of training items the cpu will create\n",
    "                    workers=4) # number of processes that will generate items"
   ]
  },
  {
   "cell_type": "code",
   "execution_count": 17,
   "id": "treated-paraguay",
   "metadata": {},
   "outputs": [],
   "source": [
    "# uncomment these lines to use them\n",
    "# model.save(\"language_model.h5\")\n",
    "model = tf.keras.models.load_model(\"language_model.h5\")"
   ]
  },
  {
   "cell_type": "code",
   "execution_count": 18,
   "id": "military-defeat",
   "metadata": {},
   "outputs": [],
   "source": [
    "preds = model.predict(create_dataset(X_test[:100]))"
   ]
  },
  {
   "cell_type": "code",
   "execution_count": 19,
   "id": "appropriate-friend",
   "metadata": {},
   "outputs": [],
   "source": [
    "labels = X_test[:1000, 1:300]"
   ]
  },
  {
   "cell_type": "code",
   "execution_count": 20,
   "id": "false-titanium",
   "metadata": {},
   "outputs": [
    {
     "data": {
      "text/plain": [
       "'<START> it has been years since it s original run i would have hoped by now some marketing wizard would have promoted a live actor version of this classic by now or at least sought to re release the original episodes i can t fathom why the sci fi or cartoon network haven t snapped this up galaxy rangers actually had well thought out plots and even better scripts the animation was above average quality for it s time and excellent when compared to the talking slide show japanese animation of today it <UNK> the heavy toon toy tie in market this may have sealed it s doom too i would willingly spend cash on a dvd of gr if available <END> <MASK> <MASK> <MASK> <MASK> <MASK> <MASK> <MASK> <MASK> <MASK> <MASK> <MASK> <MASK> <MASK> <MASK> <MASK> <MASK> <MASK> <MASK> <MASK> <MASK> <MASK> <MASK> <MASK> <MASK> <MASK> <MASK> <MASK> <MASK> <MASK> <MASK> <MASK> <MASK> <MASK> <MASK> <MASK> <MASK> <MASK> <MASK> <MASK> <MASK> <MASK> <MASK> <MASK> <MASK> <MASK> <MASK> <MASK> <MASK> <MASK> <MASK> <MASK> <MASK> <MASK> <MASK> <MASK> <MASK> <MASK> <MASK> <MASK> <MASK> <MASK> <MASK> <MASK> <MASK> <MASK> <MASK> <MASK> <MASK> <MASK> <MASK> <MASK> <MASK> <MASK> <MASK> <MASK> <MASK> <MASK> <MASK> <MASK> <MASK> <MASK> <MASK> <MASK> <MASK> <MASK> <MASK> <MASK> <MASK> <MASK> <MASK> <MASK> <MASK> <MASK> <MASK> <MASK> <MASK> <MASK> <MASK> <MASK> <MASK> <MASK> <MASK> <MASK> <MASK> <MASK> <MASK> <MASK> <MASK> <MASK> <MASK> <MASK> <MASK> <MASK> <MASK> <MASK> <MASK> <MASK> <MASK> <MASK> <MASK> <MASK> <MASK> <MASK> <MASK> <MASK> <MASK> <MASK> <MASK> <MASK> <MASK> <MASK> <MASK> <MASK> <MASK> <MASK> <MASK> <MASK> <MASK> <MASK> <MASK> <MASK> <MASK> <MASK> <MASK> <MASK> <MASK> <MASK> <MASK> <MASK> <MASK> <MASK> <MASK> <MASK> <MASK> <MASK> <MASK> <MASK> <MASK> <MASK> <MASK> <MASK> <MASK> <MASK> <MASK> <MASK> <MASK> <MASK> <MASK> <MASK> <MASK> <MASK> <MASK> <MASK> <MASK> <MASK> <MASK> <MASK> <MASK>'"
      ]
     },
     "execution_count": 20,
     "metadata": {},
     "output_type": "execute_result"
    }
   ],
   "source": [
    "item = 2\n",
    "index_to_string(X_test[item])"
   ]
  },
  {
   "cell_type": "code",
   "execution_count": 21,
   "id": "advisory-bumper",
   "metadata": {},
   "outputs": [
    {
     "data": {
      "text/plain": [
       "'i s been a since i was a and i m like to it the that of and <UNK> have been a <UNK> action of of the film in the i even least a to be <UNK> it original version and have t wait how the show fi channel sci network would t been it up and <UNK> is were a to out and and i the films and <UNK> was <UNK> average and and the s time and the acting i to the original <UNK> show the series of the s was the <UNK> <UNK> <UNK> <UNK> in the i is be been the s <UNK> it it m recommend recommend the on a dvd of the s you on <MASK> <MASK> <MASK> <MASK> <MASK> <MASK> <MASK> <MASK> <MASK> <MASK> <MASK> <MASK> <MASK> <MASK> <MASK> <MASK> <MASK> <MASK> <MASK> <MASK> <MASK> <MASK> <MASK> <MASK> <MASK> <MASK> <MASK> <MASK> <MASK> <MASK> <MASK> <MASK> <MASK> <MASK> <MASK> <MASK> <MASK> <MASK> <MASK> <MASK> <MASK> <MASK> <MASK> <MASK> <MASK> <MASK> <MASK> <MASK> <MASK> <MASK> <MASK> <MASK> <MASK> <MASK> <MASK> <MASK> <MASK> <MASK> <MASK> <MASK> <MASK> <MASK> <MASK> <MASK> <MASK> <MASK> <MASK> <MASK> <MASK> <MASK> <MASK> <MASK> <MASK> <MASK> <MASK> <MASK> <MASK> <MASK> <MASK> <MASK> <MASK> <MASK> <MASK> <MASK> <MASK> <MASK> <MASK> <MASK> <MASK> <MASK> <MASK> <MASK> <MASK> <MASK> <MASK> <MASK> <MASK> <MASK> <MASK> <MASK> <MASK> <MASK> <MASK> <MASK> <MASK> <MASK> <MASK> <MASK> <MASK> <MASK> <MASK> <MASK> <MASK> <MASK> <MASK> <MASK> <MASK> <MASK> <MASK> <MASK> <MASK> <MASK> <MASK> <MASK> <MASK> <MASK> <MASK> <MASK> <MASK> <MASK> <MASK> <MASK> <MASK> <MASK> <MASK> <MASK> <MASK> <MASK> <MASK> <MASK> <MASK> <MASK> <MASK> <MASK> <MASK> <MASK> <MASK> <MASK> <MASK> <MASK> <MASK> <MASK> <MASK> <MASK> <MASK> <MASK> <MASK> <MASK> <MASK> <MASK> <MASK> <MASK> <MASK> <MASK> <MASK> <MASK> <MASK> <MASK> <MASK> <MASK> <MASK> <MASK> <MASK> <MASK> <MASK> <MASK> <MASK> <MASK> <MASK>'"
      ]
     },
     "execution_count": 21,
     "metadata": {},
     "output_type": "execute_result"
    }
   ],
   "source": [
    "index_to_string(np.argmax(preds[item], axis=1))"
   ]
  },
  {
   "cell_type": "code",
   "execution_count": 22,
   "id": "dense-joshua",
   "metadata": {},
   "outputs": [
    {
     "data": {
      "text/plain": [
       "array([    0, 18562, 16679, 19721, 18461,  9055, 19774, 17816, 19892,\n",
       "       19319, 19434, 19920, 18342, 17951,     2, 19876, 16874, 17853,\n",
       "       18764, 19919], dtype=int64)"
      ]
     },
     "execution_count": 22,
     "metadata": {},
     "output_type": "execute_result"
    }
   ],
   "source": [
    "np.flip(np.argsort(preds[58, 100]))[:20]"
   ]
  },
  {
   "cell_type": "markdown",
   "id": "reduced-reply",
   "metadata": {},
   "source": [
    "### Closure Creation \n",
    "Analyse performance on the test set given by solving closure problems"
   ]
  },
  {
   "cell_type": "code",
   "execution_count": 23,
   "id": "diagnostic-router",
   "metadata": {},
   "outputs": [],
   "source": [
    "closures = np.zeros(X_test.shape, dtype='int')\n",
    "prompt = \"Overall the movie was\"\n",
    "for i in range(X_test.shape[0]):\n",
    "    review = index_to_string(X_test[i]).replace('<MASK> ', '').replace('<END> ', '').strip() # convert to string, removing the <END> and <MASK> tokens\n",
    "    closures[i, :] = string_to_idxs(review + \" \" + prompt)\n",
    "closures = create_dataset(closures)"
   ]
  },
  {
   "cell_type": "code",
   "execution_count": 24,
   "id": "activated-authentication",
   "metadata": {},
   "outputs": [],
   "source": [
    "# we need to perform prediction in steps as otherwise the output doesn't fit in memory\n",
    "def generator_predict(closures):\n",
    "    for data in closures:\n",
    "        # find the last index that's not a zero in the input data (by looping back from the end to the first non-zero entry)\n",
    "        # then use that to get the prediction at the end\n",
    "        for i in range(batch_size - 1, -1, -1):\n",
    "            if data[0][0, i] != 0: break # data[0] is the input sequence, data[0][0 - the first sample, i - ith word]\n",
    "        \n",
    "        # take the prediction for the last word in the text before masking tokens\n",
    "        pred = model.predict(data)[0, i - 1, :] # i is the position of the end token 3, take the prediction for 1 further back\n",
    "        yield pred"
   ]
  },
  {
   "cell_type": "code",
   "execution_count": 25,
   "id": "convertible-faculty",
   "metadata": {},
   "outputs": [],
   "source": [
    "test = closures.as_numpy_iterator()"
   ]
  },
  {
   "cell_type": "code",
   "execution_count": 26,
   "id": "solved-switch",
   "metadata": {},
   "outputs": [
    {
     "data": {
      "text/plain": [
       "(array([[    2,  2463,  9856,   261,   118,   120,    27,   845,     8,\n",
       "            81,  1009,     5,    92,     7,    95,    30,    77,   211,\n",
       "             1,    17,    72,     4,  1310,     1,    33,     1,    69,\n",
       "             1,   196,     8,    97,    23,   422,     4,    52,   211,\n",
       "          5735,  2807,    80,   182,     6,  2700,  3208,  3606, 11481,\n",
       "           838,    11,    29,  4876,    44,  2573,    10,    46,     5,\n",
       "          1595,   307,     9,   778,     4,  2761,    20,    59,  5791,\n",
       "            34,    33,  7145,  1493,   980,   935,    12,   105,   285,\n",
       "          5158,     8,     6,    11,     4,  4036,    64,    27,  2555,\n",
       "            46,    36, 10620,     6,     1,   187,    29,  3843,  4036,\n",
       "             5,  8624,    27,  1165,    49,     6,  7812,   443,  5237,\n",
       "          1838,    11,    64,    27, 17862,  2595,  5850,     8,     4,\n",
       "           388,    17,    72,    17,   112,   490,     1,    91,    86,\n",
       "             6,  1256,  1932,     6,   768,  5947,    40,    50,   290,\n",
       "            41,     4,   862,  1831,  1593,     1,   210,     4,  3904,\n",
       "          1998,     7,     6,  2287, 15821,    43,   102,    80,   143,\n",
       "             1,     1,     4,   228,    49,   616,  1020,   409,     4,\n",
       "           369,     7,     4,    60,    10,    15,    33,    39,   749,\n",
       "             5,   350,   568,    10,    15,    26,    33,    77,  9856,\n",
       "           128,   729,     6,   757,   697,     8,    29,   177,     5,\n",
       "             9,  4083,     4,   121,   281,    11,    13,   485,     7,\n",
       "           266,    14,   155,    24,   135,    76,    21,    27,    53,\n",
       "            81,     4, 13114,  1008,   210, 10780,     8,     4,  4484,\n",
       "          3104,    92,     7,     4,  1923,   359,   132,    27,  1521,\n",
       "            29,   140,     1,     1,     5,     1,   535,   409,    20,\n",
       "            51,  4091,    21,    23,    28,   215,  1899,    23,    28,\n",
       "           152,  1433,  9856,   117,     4,  1008,    13,    18,     9,\n",
       "           370,    37,   373,   450,     7,    60,     4,   117,   143,\n",
       "            17,    10,     9,     9,   431,     7,    15,   101,  1635,\n",
       "           345,  2775,   896,  1369,   869,    15,    56,   526, 11402,\n",
       "           550,   138,    21,    10,    15,    26,    62,  1698,   724,\n",
       "            17,    52,    17,   349,     6,  2416,  1794,    43,     6,\n",
       "          1369,   869,    22,    89,    24,  1246,   131,   439,     4,\n",
       "            18,    16,     3]]),\n",
       " array([[0., 0., 0., ..., 0., 0., 0.],\n",
       "        [0., 0., 0., ..., 0., 0., 0.],\n",
       "        [0., 0., 0., ..., 0., 0., 0.],\n",
       "        ...,\n",
       "        [0., 0., 0., ..., 0., 0., 0.],\n",
       "        [0., 0., 0., ..., 0., 0., 0.],\n",
       "        [1., 0., 0., ..., 0., 0., 0.]], dtype=float32))"
      ]
     },
     "execution_count": 26,
     "metadata": {},
     "output_type": "execute_result"
    }
   ],
   "source": [
    "next(test)"
   ]
  },
  {
   "cell_type": "code",
   "execution_count": 27,
   "id": "accepted-excess",
   "metadata": {},
   "outputs": [
    {
     "data": {
      "text/plain": [
       "array([6.4843495e-09, 6.8171727e-03, 1.8615570e-09, ..., 2.3755327e-08,\n",
       "       4.7915944e-07, 2.1847498e-08], dtype=float32)"
      ]
     },
     "execution_count": 27,
     "metadata": {},
     "output_type": "execute_result"
    }
   ],
   "source": [
    "next(generator_predict(closures))"
   ]
  },
  {
   "cell_type": "code",
   "execution_count": 28,
   "id": "advisory-contrary",
   "metadata": {},
   "outputs": [],
   "source": [
    "# calculate the predicted probabilities\n",
    "pred_probas = [] # the probability that the next word is \"Good\" if it must by Good or Bad\n",
    "for i, pred in enumerate(generator_predict(closures)):\n",
    "    good_prob = pred[vocab_idx['good']] # great\n",
    "    bad_prob = pred[vocab_idx['bad']]   # poor\n",
    "    total = good_prob + bad_prob\n",
    "    pred_probas.append(good_prob/(good_prob + bad_prob)) "
   ]
  },
  {
   "cell_type": "code",
   "execution_count": 29,
   "id": "joined-gross",
   "metadata": {},
   "outputs": [],
   "source": [
    "# Find the cutoff that gives the highest accuracy\n",
    "pred_probas = np.array(pred_probas)\n",
    "c_range = np.arange(0, 1, 0.001)\n",
    "accuracies = []\n",
    "for cutoff in c_range:\n",
    "    class_preds = (pred_probas > cutoff).astype(int)\n",
    "    accuracies.append(accuracy_score(y_test, class_preds))"
   ]
  },
  {
   "cell_type": "code",
   "execution_count": 30,
   "id": "experienced-harrison",
   "metadata": {},
   "outputs": [
    {
     "data": {
      "image/png": "[encoded data removed]",
      "text/plain": [
       "<Figure size 432x288 with 1 Axes>"
      ]
     },
     "metadata": {
      "needs_background": "light"
     },
     "output_type": "display_data"
    }
   ],
   "source": [
    "plt.plot(c_range, accuracies)\n",
    "plt.title(\"Effect of changing cutoff on test set accuracy\")\n",
    "plt.ylabel(\"Accuracy\")\n",
    "plt.xlabel(\"Cutoff\")\n",
    "plt.show()"
   ]
  },
  {
   "cell_type": "code",
   "execution_count": null,
   "id": "wound-replacement",
   "metadata": {},
   "outputs": [],
   "source": []
  }
 ],
 "metadata": {
  "kernelspec": {
   "display_name": "Python 3",
   "language": "python",
   "name": "python3"
  },
  "language_info": {
   "codemirror_mode": {
    "name": "ipython",
    "version": 3
   },
   "file_extension": ".py",
   "mimetype": "text/x-python",
   "name": "python",
   "nbconvert_exporter": "python",
   "pygments_lexer": "ipython3",
   "version": "3.8.8"
  }
 },
 "nbformat": 4,
 "nbformat_minor": 5
}
