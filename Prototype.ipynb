{
 "cells": [
  {
   "cell_type": "code",
   "execution_count": 45,
   "id": "protective-cherry",
   "metadata": {},
   "outputs": [],
   "source": [
    "import re\n",
    "from functools import reduce\n",
    "from collections import Counter\n",
    "import pandas as pd\n",
    "import numpy as np\n",
    "import matplotlib.pyplot as plt\n",
    "from sklearn.model_selection import train_test_split\n",
    "from sklearn.metrics import accuracy_score"
   ]
  },
  {
   "cell_type": "markdown",
   "id": "varying-channel",
   "metadata": {},
   "source": [
    "### Pre-Processing"
   ]
  },
  {
   "cell_type": "code",
   "execution_count": 2,
   "id": "raised-statistics",
   "metadata": {},
   "outputs": [],
   "source": [
    "batch_size = 300\n",
    "vocab_size = 20000"
   ]
  },
  {
   "cell_type": "code",
   "execution_count": 3,
   "id": "exterior-orlando",
   "metadata": {},
   "outputs": [
    {
     "data": {
      "text/html": [
       "<div>\n",
       "<style scoped>\n",
       "    .dataframe tbody tr th:only-of-type {\n",
       "        vertical-align: middle;\n",
       "    }\n",
       "\n",
       "    .dataframe tbody tr th {\n",
       "        vertical-align: top;\n",
       "    }\n",
       "\n",
       "    .dataframe thead th {\n",
       "        text-align: right;\n",
       "    }\n",
       "</style>\n",
       "<table border=\"1\" class=\"dataframe\">\n",
       "  <thead>\n",
       "    <tr style=\"text-align: right;\">\n",
       "      <th></th>\n",
       "      <th>review</th>\n",
       "      <th>sentiment</th>\n",
       "    </tr>\n",
       "  </thead>\n",
       "  <tbody>\n",
       "    <tr>\n",
       "      <th>0</th>\n",
       "      <td>One of the other reviewers has mentioned that ...</td>\n",
       "      <td>1</td>\n",
       "    </tr>\n",
       "    <tr>\n",
       "      <th>1</th>\n",
       "      <td>A wonderful little production. &lt;br /&gt;&lt;br /&gt;The...</td>\n",
       "      <td>1</td>\n",
       "    </tr>\n",
       "    <tr>\n",
       "      <th>2</th>\n",
       "      <td>I thought this was a wonderful way to spend ti...</td>\n",
       "      <td>1</td>\n",
       "    </tr>\n",
       "    <tr>\n",
       "      <th>3</th>\n",
       "      <td>Basically there's a family where a little boy ...</td>\n",
       "      <td>0</td>\n",
       "    </tr>\n",
       "    <tr>\n",
       "      <th>4</th>\n",
       "      <td>Petter Mattei's \"Love in the Time of Money\" is...</td>\n",
       "      <td>1</td>\n",
       "    </tr>\n",
       "  </tbody>\n",
       "</table>\n",
       "</div>"
      ],
      "text/plain": [
       "                                              review  sentiment\n",
       "0  One of the other reviewers has mentioned that ...          1\n",
       "1  A wonderful little production. <br /><br />The...          1\n",
       "2  I thought this was a wonderful way to spend ti...          1\n",
       "3  Basically there's a family where a little boy ...          0\n",
       "4  Petter Mattei's \"Love in the Time of Money\" is...          1"
      ]
     },
     "execution_count": 3,
     "metadata": {},
     "output_type": "execute_result"
    }
   ],
   "source": [
    "df = pd.read_csv('IMDB Dataset.csv')\n",
    "df['sentiment'] = (df['sentiment'] == 'positive').astype(int)\n",
    "df.head()"
   ]
  },
  {
   "cell_type": "code",
   "execution_count": 4,
   "id": "earlier-opening",
   "metadata": {},
   "outputs": [
    {
     "name": "stdout",
     "output_type": "stream",
     "text": [
      "average word count: 231.15694\n"
     ]
    }
   ],
   "source": [
    "print(f\"average word count: {np.mean(df['review'].apply(lambda x: len(x.split())))}\")"
   ]
  },
  {
   "cell_type": "code",
   "execution_count": 5,
   "id": "pressed-charity",
   "metadata": {},
   "outputs": [],
   "source": [
    "# clean a string and get the vocab words from it\n",
    "def get_words(string):\n",
    "    string = string.lower().replace('<br />', ' ') # <br /> tags frequently appear, remove them\n",
    "    return re.findall(r'[a-z]+', string)\n",
    "\n",
    "# create and clean the vocabulary\n",
    "text_corpus = ' '.join(df['review'])\n",
    "words = get_words(text_corpus)\n",
    "\n",
    "# take the x most common words, otherwise we get a vocab of 100000\n",
    "word_counts = Counter(words)\n",
    "words = sorted(word_counts.items(), reverse=True, key=lambda x: x[1])[:vocab_size-5]\n",
    "words = list(list(zip(*words))[0]) # remove the counts\n",
    "words = ['<UNK>', '<PAD>', '<START>', '<END>', '<MASK>'] + words # add the tokens"
   ]
  },
  {
   "cell_type": "code",
   "execution_count": 6,
   "id": "minor-verification",
   "metadata": {},
   "outputs": [
    {
     "name": "stdout",
     "output_type": "stream",
     "text": [
      "number of unique words: 20000\n"
     ]
    }
   ],
   "source": [
    "# create the dictionaries to store the vocab\n",
    "vocab_idx = {}\n",
    "idx_vocab = {}\n",
    "for i, word in enumerate(words):\n",
    "    if word not in vocab_idx:\n",
    "        vocab_idx[word] = i\n",
    "        idx_vocab[i] = word\n",
    "print(f\"number of unique words: {len(vocab_idx)}\")"
   ]
  },
  {
   "cell_type": "code",
   "execution_count": 7,
   "id": "dimensional-badge",
   "metadata": {},
   "outputs": [],
   "source": [
    "# convert a string to a list of indexes of its words\n",
    "# also add start and end tokens along with left padding\n",
    "def string_to_idxs(string):\n",
    "    idxs = list(map(lambda x: vocab_idx[x] if x in vocab_idx else 0, get_words(string)))\n",
    "    idxs = [2] + idxs[-(batch_size-2):] + [3] # crop to the batch_size and add the start and end tokens\n",
    "    padding = np.zeros((batch_size - len(idxs))) + 1\n",
    "    idxs = np.concatenate([padding, idxs]).astype(int)\n",
    "    return idxs"
   ]
  },
  {
   "cell_type": "code",
   "execution_count": 8,
   "id": "racial-andorra",
   "metadata": {},
   "outputs": [],
   "source": [
    "def index_to_string(idxes):\n",
    "    return ' '.join(list(map(lambda x: idx_vocab[x], idxes)))"
   ]
  },
  {
   "cell_type": "code",
   "execution_count": 9,
   "id": "broken-victor",
   "metadata": {},
   "outputs": [
    {
     "data": {
      "text/plain": [
       "0        [2, 33, 3177, 36, 29, 208, 18, 14, 10, 617, 51...\n",
       "1        [1, 1, 1, 1, 1, 1, 1, 1, 1, 1, 1, 1, 1, 1, 1, ...\n",
       "2        [1, 1, 1, 1, 1, 1, 1, 1, 1, 1, 1, 1, 1, 1, 1, ...\n",
       "3        [1, 1, 1, 1, 1, 1, 1, 1, 1, 1, 1, 1, 1, 1, 1, ...\n",
       "4        [1, 1, 1, 1, 1, 1, 1, 1, 1, 1, 1, 1, 1, 1, 1, ...\n",
       "                               ...                        \n",
       "49995    [1, 1, 1, 1, 1, 1, 1, 1, 1, 1, 1, 1, 1, 1, 1, ...\n",
       "49996    [1, 1, 1, 1, 1, 1, 1, 1, 1, 1, 1, 1, 1, 1, 1, ...\n",
       "49997    [1, 1, 1, 1, 1, 1, 1, 1, 1, 1, 1, 1, 1, 1, 1, ...\n",
       "49998    [1, 1, 1, 1, 1, 1, 1, 1, 1, 1, 1, 1, 1, 1, 1, ...\n",
       "49999    [1, 1, 1, 1, 1, 1, 1, 1, 1, 1, 1, 1, 1, 1, 1, ...\n",
       "Name: idxed_review, Length: 50000, dtype: object"
      ]
     },
     "execution_count": 9,
     "metadata": {},
     "output_type": "execute_result"
    }
   ],
   "source": [
    "# create a column that represents reviews a list of the words' indexes in the vocab\n",
    "df['idxed_review'] = df['review'].apply(string_to_idxs)\n",
    "df['idxed_review']"
   ]
  },
  {
   "cell_type": "markdown",
   "id": "manufactured-killing",
   "metadata": {},
   "source": [
    "#### Build training and test set\n",
    "Training set has no closures and is a language modelling task\n",
    "\n",
    "Test set has the closures and is a classification task"
   ]
  },
  {
   "cell_type": "code",
   "execution_count": 10,
   "id": "funded-analysis",
   "metadata": {},
   "outputs": [],
   "source": [
    "# turn the review column into a multi dimensional array\n",
    "review_array = np.concatenate(df['idxed_review']).reshape(df.shape[0], batch_size)"
   ]
  },
  {
   "cell_type": "code",
   "execution_count": 11,
   "id": "restricted-baker",
   "metadata": {},
   "outputs": [],
   "source": [
    "X_train, X_test, y_train, y_test = train_test_split(review_array, np.array(df['sentiment']), test_size=0.1)"
   ]
  },
  {
   "cell_type": "code",
   "execution_count": 12,
   "id": "expensive-tackle",
   "metadata": {},
   "outputs": [
    {
     "data": {
      "text/plain": [
       "array([[   1,    1,    1, ...,   16,    3,    1],\n",
       "       [   1,    1,    1, ...,   11,    3,    1],\n",
       "       [   7,  174,   54, ...,  300,    3,    1],\n",
       "       ...,\n",
       "       [   1,    1,    1, ..., 1703,    3,    1],\n",
       "       [ 102,  119,   24, ...,  120,    3,    1],\n",
       "       [ 240,  323,   26, ...,   59,    3,    1]])"
      ]
     },
     "execution_count": 12,
     "metadata": {},
     "output_type": "execute_result"
    }
   ],
   "source": [
    "# the label for each word is the next word in the seqeunce, we also add a pad token at the end to keep the dimensions the same\n",
    "y_train = np.concatenate([X_train[:, 1:], np.ones((X_train.shape[0], 1)).astype(int)], axis=1)\n",
    "y_train"
   ]
  },
  {
   "cell_type": "code",
   "execution_count": 13,
   "id": "north-handling",
   "metadata": {},
   "outputs": [
    {
     "data": {
      "text/plain": [
       "array([[   1,    1,    1, ...,  404,   16,    3],\n",
       "       [   1,    1,    1, ...,  107,   11,    3],\n",
       "       [   2,    7,  174, ...,    6,  300,    3],\n",
       "       ...,\n",
       "       [   1,    1,    1, ...,    6, 1703,    3],\n",
       "       [   2,  102,  119, ...,   26,  120,    3],\n",
       "       [   2,  240,  323, ...,   72,   59,    3]])"
      ]
     },
     "execution_count": 13,
     "metadata": {},
     "output_type": "execute_result"
    }
   ],
   "source": [
    "X_train"
   ]
  },
  {
   "cell_type": "markdown",
   "id": "upset-killer",
   "metadata": {},
   "source": [
    "### Model Building\n",
    "- First train an LSTM as a language model, then have it solve closures to get the predictions\n",
    "- Because the data would be too large to fit in memory if we converted it to one hot, we have to instead train using a generator (takes integers representing words and outputs a one hot vector\n",
    "- Clozure to start with: \"X + Overall this movie was (poor/great)\"  (figure out how to do Bidirectional LSTM without it just predicting \\<MASK\\> later)"
   ]
  },
  {
   "cell_type": "code",
   "execution_count": 14,
   "id": "organized-webmaster",
   "metadata": {},
   "outputs": [
    {
     "data": {
      "text/plain": [
       "[PhysicalDevice(name='/physical_device:GPU:0', device_type='GPU')]"
      ]
     },
     "execution_count": 14,
     "metadata": {},
     "output_type": "execute_result"
    }
   ],
   "source": [
    "import tensorflow as tf\n",
    "from tensorflow.keras import Sequential\n",
    "from tensorflow.keras.layers import Embedding, LSTM, Dense, TimeDistributed, Dropout\n",
    "tf.config.list_physical_devices('GPU') # check gpu is in use"
   ]
  },
  {
   "cell_type": "code",
   "execution_count": 15,
   "id": "instructional-audience",
   "metadata": {},
   "outputs": [],
   "source": [
    "# Create the generator class, it yields one review and its labels at a time\n",
    "class SampleSequence(tf.keras.utils.Sequence): # extend Seqeunce so that we can use multiprocessing\n",
    "    def __init__(self, X_train):\n",
    "        self.X = X_train\n",
    "        \n",
    "    def __len__(self):\n",
    "        return self.X.shape[0]\n",
    "        \n",
    "    # get item at the index specified\n",
    "    def __getitem__(self, idx):\n",
    "        # the pad_token is used for creating the labels\n",
    "        pad_token = np.zeros((1, vocab_size))\n",
    "        pad_token[0, 1] = 1\n",
    "        \n",
    "        x_sample = self.X[idx, :].reshape(1, batch_size) # the embedding layer automatically handles integers\n",
    "        y_sample = np.zeros((batch_size, vocab_size)) # the labels need to be manually converted to one hot\n",
    "        for i in range(batch_size - 1):\n",
    "            y_sample[i, self.X[idx, i+1]] = 1  # the label at step1 is the word at step2\n",
    "        y_sample[-1, :] = pad_token # add the pad token for the 300th step's label\n",
    "        y_sample = y_sample.reshape(1, batch_size, vocab_size)\n",
    "            \n",
    "        return (x_sample, y_sample)"
   ]
  },
  {
   "cell_type": "code",
   "execution_count": 17,
   "id": "prerequisite-maker",
   "metadata": {},
   "outputs": [],
   "source": [
    "# Do the same thing but with a tensorflow dataset implementation, this allows parralelization \n",
    "# first define the mapping function to convert a tensor of X_train into an X, y sample\n",
    "pad_token = np.zeros((1, vocab_size))\n",
    "pad_token[0, 1] = 1\n",
    "pad_token = tf.constant(pad_token, dtype='float32')\n",
    "def text_to_sample(x_tensor): # takes a single sample and converts it to input text and ouput labels\n",
    "    y_one_hot = tf.one_hot(x_tensor, vocab_size, axis=-1) # axos=-1 means we get a tensor of shape (features, vocab_size)\n",
    "    y_one_hot = y_one_hot[1:, :] # shift back one\n",
    "    y_one_hot = tf.concat([y_one_hot, pad_token], axis=0) # add pad token at the end \n",
    "    x_tensor = tf.reshape(x_tensor, [1, batch_size])\n",
    "    return (x_tensor, y_one_hot)\n",
    "\n",
    "# create training Dataset, apply the function to create the pipeline\n",
    "def create_dataset(data):\n",
    "    dataset = tf.data.Dataset.from_tensor_slices(data)\n",
    "    dataset = dataset.map(text_to_sample)\n",
    "    return dataset\n",
    "\n",
    "training = create_dataset(X_train)\n",
    "testing = create_dataset(X_test)"
   ]
  },
  {
   "cell_type": "code",
   "execution_count": null,
   "id": "artificial-receipt",
   "metadata": {},
   "outputs": [],
   "source": [
    "# Create the model, eventually this should be bi-directional\n",
    "model = Sequential()\n",
    "model.add(Embedding(vocab_size, 500, input_length=batch_size))\n",
    "model.add(LSTM(500, return_sequences=True,\n",
    "              activation='tanh', recurrent_activation='sigmoid',\n",
    "              dropout=0.2, recurrent_dropout=0))\n",
    "model.add(Dropout(0.2))\n",
    "model.add(TimeDistributed(Dense(20000, activation='softmax')))\n",
    "model.compile(loss='categorical_crossentropy', metrics=['categorical_accuracy'],\n",
    "              optimizer=tf.keras.optimizers.Adam(learning_rate=0.0001, beta_1=0.9, beta_2=0.999))\n",
    "model.summary()"
   ]
  },
  {
   "cell_type": "code",
   "execution_count": 17,
   "id": "handy-religious",
   "metadata": {},
   "outputs": [
    {
     "name": "stdout",
     "output_type": "stream",
     "text": [
      "Train for 45000 steps, validate for 5000 steps\n",
      "Epoch 1/10\n",
      "45000/45000 [==============================] - 3875s 86ms/step - loss: 3.7736 - categorical_accuracy: 0.4407 - val_loss: 3.5183 - val_categorical_accuracy: 0.4589\n",
      "Epoch 2/10\n",
      "45000/45000 [==============================] - 3199s 71ms/step - loss: 3.4452 - categorical_accuracy: 0.4652 - val_loss: 3.3598 - val_categorical_accuracy: 0.4714\n",
      "Epoch 3/10\n",
      "45000/45000 [==============================] - 3202s 71ms/step - loss: 3.3348 - categorical_accuracy: 0.4737 - val_loss: 3.2772 - val_categorical_accuracy: 0.4782\n",
      "Epoch 4/10\n",
      "45000/45000 [==============================] - 3199s 71ms/step - loss: 3.2688 - categorical_accuracy: 0.4790 - val_loss: 3.2256 - val_categorical_accuracy: 0.4826\n",
      "Epoch 5/10\n",
      "45000/45000 [==============================] - 3223s 72ms/step - loss: 3.2247 - categorical_accuracy: 0.4825 - val_loss: 3.1918 - val_categorical_accuracy: 0.4853\n",
      "Epoch 6/10\n",
      "45000/45000 [==============================] - 3314s 74ms/step - loss: 3.1918 - categorical_accuracy: 0.4851 - val_loss: 3.1657 - val_categorical_accuracy: 0.4876\n",
      "Epoch 7/10\n",
      "45000/45000 [==============================] - 3348s 74ms/step - loss: 3.1658 - categorical_accuracy: 0.4873 - val_loss: 3.1470 - val_categorical_accuracy: 0.4895\n",
      "Epoch 8/10\n",
      "45000/45000 [==============================] - 3355s 75ms/step - loss: 3.1448 - categorical_accuracy: 0.4891 - val_loss: 3.1326 - val_categorical_accuracy: 0.4906\n",
      "Epoch 9/10\n",
      "45000/45000 [==============================] - 3348s 74ms/step - loss: 3.1268 - categorical_accuracy: 0.4905 - val_loss: 3.1216 - val_categorical_accuracy: 0.4916\n",
      "Epoch 10/10\n",
      "45000/45000 [==============================] - 3382s 75ms/step - loss: 3.1119 - categorical_accuracy: 0.4916 - val_loss: 3.1117 - val_categorical_accuracy: 0.4924\n"
     ]
    }
   ],
   "source": [
    "# With CUDNN implementation it runs faster, does take a lot of time to begin though\n",
    "history = model.fit(x=training, validation_data=testing, epochs=10, \n",
    "                    use_multiprocessing=True, # allows multiple cpu cores to work on generating data samples at once\n",
    "                    max_queue_size=50, # size of the queue of training items the cpu will create\n",
    "                    workers=4) # number of processes that will generate items"
   ]
  },
  {
   "cell_type": "code",
   "execution_count": 56,
   "id": "educational-speaking",
   "metadata": {},
   "outputs": [],
   "source": [
    "model.save(\"language_model.h5\")"
   ]
  },
  {
   "cell_type": "code",
   "execution_count": 18,
   "id": "fixed-sense",
   "metadata": {},
   "outputs": [],
   "source": [
    "model = tf.keras.models.load_model(\"language_model.h5\")"
   ]
  },
  {
   "cell_type": "code",
   "execution_count": 19,
   "id": "nervous-flight",
   "metadata": {},
   "outputs": [],
   "source": [
    "preds = model.predict(create_dataset(X_test[:100]))"
   ]
  },
  {
   "cell_type": "code",
   "execution_count": 20,
   "id": "median-natural",
   "metadata": {},
   "outputs": [],
   "source": [
    "labels = X_test[:1000, 1:300]"
   ]
  },
  {
   "cell_type": "code",
   "execution_count": 21,
   "id": "bizarre-senior",
   "metadata": {},
   "outputs": [
    {
     "data": {
      "text/plain": [
       "'<PAD> <PAD> <PAD> <PAD> <PAD> <PAD> <PAD> <PAD> <PAD> <PAD> <PAD> <PAD> <PAD> <PAD> <PAD> <PAD> <PAD> <PAD> <PAD> <PAD> <PAD> <PAD> <PAD> <PAD> <PAD> <PAD> <PAD> <PAD> <PAD> <PAD> <PAD> <PAD> <PAD> <PAD> <PAD> <PAD> <PAD> <PAD> <PAD> <PAD> <PAD> <PAD> <PAD> <PAD> <PAD> <PAD> <PAD> <PAD> <PAD> <PAD> <PAD> <PAD> <PAD> <PAD> <PAD> <PAD> <PAD> <PAD> <PAD> <PAD> <PAD> <PAD> <PAD> <PAD> <PAD> <PAD> <PAD> <PAD> <PAD> <PAD> <PAD> <PAD> <PAD> <PAD> <PAD> <PAD> <PAD> <PAD> <PAD> <PAD> <PAD> <PAD> <PAD> <PAD> <PAD> <PAD> <PAD> <PAD> <PAD> <PAD> <PAD> <PAD> <PAD> <PAD> <PAD> <PAD> <PAD> <PAD> <PAD> <PAD> <PAD> <PAD> <PAD> <PAD> <PAD> <PAD> <PAD> <PAD> <PAD> <PAD> <PAD> <PAD> <PAD> <PAD> <PAD> <PAD> <PAD> <PAD> <PAD> <PAD> <PAD> <PAD> <PAD> <PAD> <PAD> <PAD> <PAD> <PAD> <PAD> <PAD> <PAD> <PAD> <PAD> <PAD> <PAD> <PAD> <PAD> <PAD> <PAD> <PAD> <PAD> <PAD> <PAD> <PAD> <PAD> <PAD> <PAD> <PAD> <PAD> <PAD> <PAD> <PAD> <PAD> <PAD> <PAD> <PAD> <PAD> <PAD> <PAD> <PAD> <PAD> <PAD> <PAD> <PAD> <PAD> <PAD> <PAD> <PAD> <PAD> <PAD> <PAD> <PAD> <PAD> <PAD> <PAD> <PAD> <PAD> <PAD> <PAD> <PAD> <PAD> <PAD> <START> winchester is a great story and that s what i like about it it s not your everyday western it uses a rifle which passes hands from various characters as a mechanism for telling the story about these people rock hudson plays an indian chief jimmy stewart plays a great leading man with heart and strength and shelly winters plays a gal who has to cope with the realities of her husband and the wild west it s important to note for those politically correct types they kill a lot of indians in this movie without remorse by today s standards it s still pretty violent but it s a great story and worth watching enjoy <END>'"
      ]
     },
     "execution_count": 21,
     "metadata": {},
     "output_type": "execute_result"
    }
   ],
   "source": [
    "item = 2\n",
    "index_to_string(X_test[item])"
   ]
  },
  {
   "cell_type": "code",
   "execution_count": 22,
   "id": "aggressive-infection",
   "metadata": {},
   "outputs": [
    {
     "data": {
      "text/plain": [
       "'<PAD> <PAD> <PAD> <PAD> <PAD> <PAD> <PAD> <PAD> <PAD> <PAD> <PAD> <PAD> <PAD> <PAD> <PAD> <PAD> <PAD> <PAD> <PAD> <PAD> <PAD> <PAD> <PAD> <PAD> <PAD> <PAD> <PAD> <PAD> <PAD> <PAD> <PAD> <PAD> <PAD> <PAD> <PAD> <PAD> <PAD> <PAD> <PAD> <PAD> <PAD> <PAD> <PAD> <PAD> <PAD> <PAD> <PAD> <PAD> <PAD> <PAD> <PAD> <PAD> <PAD> <PAD> <PAD> <PAD> <PAD> <PAD> <PAD> <PAD> <PAD> <PAD> <PAD> <PAD> <PAD> <PAD> <PAD> <PAD> <PAD> <PAD> <PAD> <PAD> <PAD> <PAD> <PAD> <PAD> <PAD> <PAD> <PAD> <PAD> <PAD> <PAD> <PAD> <PAD> <PAD> <PAD> <PAD> <PAD> <PAD> <PAD> <PAD> <PAD> <PAD> <PAD> <PAD> <PAD> <PAD> <PAD> <PAD> <PAD> <PAD> <PAD> <PAD> <PAD> <PAD> <PAD> <PAD> <PAD> <PAD> <PAD> <PAD> <PAD> <PAD> <PAD> <PAD> <PAD> <PAD> <PAD> <PAD> <PAD> <PAD> <PAD> <PAD> <PAD> <PAD> <PAD> <PAD> <PAD> <PAD> <PAD> <PAD> <PAD> <PAD> <PAD> <PAD> <PAD> <PAD> <PAD> <PAD> <PAD> <PAD> <PAD> <PAD> <PAD> <PAD> <PAD> <PAD> <PAD> <PAD> <PAD> <PAD> <PAD> <PAD> <PAD> <PAD> <PAD> <PAD> <PAD> <PAD> <PAD> <PAD> <PAD> <PAD> <PAD> <PAD> <PAD> <PAD> <PAD> <PAD> <PAD> <PAD> <PAD> <PAD> <PAD> <PAD> <PAD> <PAD> <PAD> <PAD> <PAD> <PAD> <PAD> this is a great film about a is not it think about the is is a a typical life but s the lot and is for down the <UNK> and the <UNK> of the the story of the people who hudson is a <UNK> <UNK> who stewart and a <UNK> role man who a and his and his <UNK> is a role who is a be with the <UNK> of the life and her <UNK> <UNK> the s a to see that the who correct the of are the man of people and the movie but any and the s standards the is a a good and it s not very film and a watching for <END> <PAD>'"
      ]
     },
     "execution_count": 22,
     "metadata": {},
     "output_type": "execute_result"
    }
   ],
   "source": [
    "index_to_string(np.argmax(preds[item], axis=1))"
   ]
  },
  {
   "cell_type": "code",
   "execution_count": 23,
   "id": "supported-thermal",
   "metadata": {},
   "outputs": [
    {
     "data": {
      "text/plain": [
       "array([21,  6,  5, 12,  9, 26, 11,  7, 43, 20, 22, 14, 18, 15, 36, 13, 10,\n",
       "       51, 32, 24], dtype=int64)"
      ]
     },
     "execution_count": 23,
     "metadata": {},
     "output_type": "execute_result"
    }
   ],
   "source": [
    "np.flip(np.argsort(preds[50, 100]))[:20]"
   ]
  },
  {
   "cell_type": "markdown",
   "id": "comfortable-cisco",
   "metadata": {},
   "source": [
    "### Closure Creation \n",
    "Analyse performance on the test set given by solving closure problems"
   ]
  },
  {
   "cell_type": "code",
   "execution_count": 24,
   "id": "informational-hazard",
   "metadata": {},
   "outputs": [],
   "source": [
    "closures = np.zeros(X_test.shape, dtype='int')\n",
    "prompt = \"Overall the movie was\"\n",
    "for i in range(X_test.shape[0]):\n",
    "    review = index_to_string(X_test[i, :-1]).replace('<PAD> ', '') # convert to string, removing the <END> and <PAD> tokens\n",
    "    closures[i, :] = string_to_idxs(review + \" \" + prompt)\n",
    "closures = create_dataset(closures)"
   ]
  },
  {
   "cell_type": "code",
   "execution_count": 37,
   "id": "loose-playback",
   "metadata": {},
   "outputs": [],
   "source": [
    "# we need to perform prediction in steps as otherwise the output doesn't fit in memory\n",
    "def generator_predict(closures):\n",
    "    for data in closures:\n",
    "        yield model.predict(data)[0, -1, :] # take the prediction for the last word"
   ]
  },
  {
   "cell_type": "code",
   "execution_count": 53,
   "id": "disturbed-columbia",
   "metadata": {},
   "outputs": [],
   "source": [
    "# calculate the predicted probabilities\n",
    "pred_probas = [] # the probability that the next word is \"Good\" if it must by Good or Bad\n",
    "for i, pred in enumerate(generator_predict(closures)):\n",
    "    good_prob = pred[vocab_idx['good']] # great\n",
    "    bad_prob = pred[vocab_idx['bad']]   # poor\n",
    "    total = good_prob + bad_prob\n",
    "    pred_probas.append(good_prob/(good_prob + bad_prob)) "
   ]
  },
  {
   "cell_type": "code",
   "execution_count": 54,
   "id": "supported-pollution",
   "metadata": {},
   "outputs": [],
   "source": [
    "# Find the cutoff that gives the highest accuracy\n",
    "pred_probas = np.array(pred_probas)\n",
    "c_range = np.arange(0, 1, 0.001)\n",
    "accuracies = []\n",
    "for cutoff in c_range:\n",
    "    class_preds = (pred_probas > cutoff).astype(int)\n",
    "    accuracies.append(accuracy_score(y_test, class_preds))"
   ]
  },
  {
   "cell_type": "code",
   "execution_count": 55,
   "id": "bacterial-convenience",
   "metadata": {},
   "outputs": [
    {
     "data": {
      "text/plain": [
       "[<matplotlib.lines.Line2D at 0x140108dc148>]"
      ]
     },
     "execution_count": 55,
     "metadata": {},
     "output_type": "execute_result"
    },
    {
     "data": {
      "image/png": "[encoded data removed]",
      "text/plain": [
       "<Figure size 432x288 with 1 Axes>"
      ]
     },
     "metadata": {
      "needs_background": "light"
     },
     "output_type": "display_data"
    }
   ],
   "source": [
    "plt.plot(c_range, accuracies)"
   ]
  },
  {
   "cell_type": "code",
   "execution_count": null,
   "id": "compatible-crossing",
   "metadata": {},
   "outputs": [],
   "source": []
  }
 ],
 "metadata": {
  "kernelspec": {
   "display_name": "Python 3",
   "language": "python",
   "name": "python3"
  },
  "language_info": {
   "codemirror_mode": {
    "name": "ipython",
    "version": 3
   },
   "file_extension": ".py",
   "mimetype": "text/x-python",
   "name": "python",
   "nbconvert_exporter": "python",
   "pygments_lexer": "ipython3",
   "version": "3.7.9"
  }
 },
 "nbformat": 4,
 "nbformat_minor": 5
}
