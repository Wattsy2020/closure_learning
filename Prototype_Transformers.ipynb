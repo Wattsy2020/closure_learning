{
 "cells": [
  {
   "cell_type": "markdown",
   "id": "b4f70fcb-4ddc-4373-b01d-6199057beb48",
   "metadata": {},
   "source": [
    "Performs few-shot learning by prompting a GPT-2 Model"
   ]
  },
  {
   "cell_type": "code",
   "execution_count": 1,
   "id": "3cc3e552-63e4-48f6-92c5-5161fefc5373",
   "metadata": {},
   "outputs": [],
   "source": [
    "import torch\n",
    "import os\n",
    "import pandas as pd\n",
    "import numpy as np\n",
    "import matplotlib.pyplot as plt\n",
    "from sklearn.model_selection import train_test_split\n",
    "from sklearn.metrics import accuracy_score\n",
    "device = \"cuda\" if torch.cuda.is_available() else \"cpu\""
   ]
  },
  {
   "cell_type": "markdown",
   "id": "ce501b5a-f260-4abc-89c0-d3a44c820c7f",
   "metadata": {},
   "source": [
    "# Pre-Processing"
   ]
  },
  {
   "cell_type": "code",
   "execution_count": 2,
   "id": "314ed453-2695-412a-9cc4-e73aed6f1972",
   "metadata": {},
   "outputs": [],
   "source": [
    "max_length = 400"
   ]
  },
  {
   "cell_type": "code",
   "execution_count": 3,
   "id": "3e1ba918-c84f-4294-8edd-e81b7c617e0f",
   "metadata": {},
   "outputs": [
    {
     "data": {
      "text/html": [
       "<div>\n",
       "<style scoped>\n",
       "    .dataframe tbody tr th:only-of-type {\n",
       "        vertical-align: middle;\n",
       "    }\n",
       "\n",
       "    .dataframe tbody tr th {\n",
       "        vertical-align: top;\n",
       "    }\n",
       "\n",
       "    .dataframe thead th {\n",
       "        text-align: right;\n",
       "    }\n",
       "</style>\n",
       "<table border=\"1\" class=\"dataframe\">\n",
       "  <thead>\n",
       "    <tr style=\"text-align: right;\">\n",
       "      <th></th>\n",
       "      <th>review</th>\n",
       "      <th>sentiment</th>\n",
       "    </tr>\n",
       "  </thead>\n",
       "  <tbody>\n",
       "    <tr>\n",
       "      <th>0</th>\n",
       "      <td>One of the other reviewers has mentioned that ...</td>\n",
       "      <td>1</td>\n",
       "    </tr>\n",
       "    <tr>\n",
       "      <th>1</th>\n",
       "      <td>A wonderful little production. &lt;br /&gt;&lt;br /&gt;The...</td>\n",
       "      <td>1</td>\n",
       "    </tr>\n",
       "    <tr>\n",
       "      <th>2</th>\n",
       "      <td>I thought this was a wonderful way to spend ti...</td>\n",
       "      <td>1</td>\n",
       "    </tr>\n",
       "    <tr>\n",
       "      <th>3</th>\n",
       "      <td>Basically there's a family where a little boy ...</td>\n",
       "      <td>0</td>\n",
       "    </tr>\n",
       "    <tr>\n",
       "      <th>4</th>\n",
       "      <td>Petter Mattei's \"Love in the Time of Money\" is...</td>\n",
       "      <td>1</td>\n",
       "    </tr>\n",
       "  </tbody>\n",
       "</table>\n",
       "</div>"
      ],
      "text/plain": [
       "                                              review  sentiment\n",
       "0  One of the other reviewers has mentioned that ...          1\n",
       "1  A wonderful little production. <br /><br />The...          1\n",
       "2  I thought this was a wonderful way to spend ti...          1\n",
       "3  Basically there's a family where a little boy ...          0\n",
       "4  Petter Mattei's \"Love in the Time of Money\" is...          1"
      ]
     },
     "execution_count": 3,
     "metadata": {},
     "output_type": "execute_result"
    }
   ],
   "source": [
    "df = pd.read_csv('IMDB Dataset.csv')\n",
    "df['sentiment'] = (df['sentiment'] == 'positive').astype(int)\n",
    "df.head()"
   ]
  },
  {
   "cell_type": "code",
   "execution_count": 4,
   "id": "47bee21b-f3fa-4a01-8907-b8e0c85aee47",
   "metadata": {},
   "outputs": [
    {
     "data": {
      "text/plain": [
       "0        307\n",
       "1        162\n",
       "2        166\n",
       "3        138\n",
       "4        230\n",
       "        ... \n",
       "49995    194\n",
       "49996    112\n",
       "49997    230\n",
       "49998    212\n",
       "49999    129\n",
       "Name: review, Length: 50000, dtype: int64"
      ]
     },
     "execution_count": 4,
     "metadata": {},
     "output_type": "execute_result"
    }
   ],
   "source": [
    "df['review'].apply(lambda x: len(x.split()))"
   ]
  },
  {
   "cell_type": "code",
   "execution_count": 5,
   "id": "a37d8308-ead5-48ee-8046-7174c401555f",
   "metadata": {},
   "outputs": [
    {
     "name": "stdout",
     "output_type": "stream",
     "text": [
      "average word count: 231.15694\n"
     ]
    },
    {
     "data": {
      "image/png": "[encoded data removed]",
      "text/plain": [
       "<Figure size 432x288 with 1 Axes>"
      ]
     },
     "metadata": {
      "needs_background": "light"
     },
     "output_type": "display_data"
    }
   ],
   "source": [
    "plt.hist(df['review'].apply(lambda x: min(len(x.split()), 1000)), bins=20)\n",
    "plt.ylabel(\"Number of texts\")\n",
    "plt.xlabel(\"Word count\")\n",
    "print(f\"average word count: {np.mean(df['review'].apply(lambda x: len(x.split())))}\")"
   ]
  },
  {
   "cell_type": "code",
   "execution_count": 6,
   "id": "7f23d60b-256c-463b-b324-f1615b3ab0ef",
   "metadata": {},
   "outputs": [],
   "source": [
    "# Do a train-val-test split 80%-10%-10%\n",
    "X_train, X_test, y_train, y_test = train_test_split(np.array(df['review']), np.array(df['sentiment']), test_size=0.2)\n",
    "X_val, X_test, y_val, y_test = train_test_split(X_test, y_test, test_size=0.5)"
   ]
  },
  {
   "cell_type": "markdown",
   "id": "61a0ccec-df85-4bb4-84d3-71611c0ccb56",
   "metadata": {},
   "source": [
    "# GPT2 Fine Tuning"
   ]
  },
  {
   "cell_type": "code",
   "execution_count": 7,
   "id": "944e90fc-2a50-41fd-ab4a-3bdc3210c8b4",
   "metadata": {},
   "outputs": [],
   "source": [
    "# load　GPT, BERT and support materials from huggingface\n",
    "# requires pip install transformers\n",
    "# if in jupyter notebook see here and you get an error mention ipython widgets see here: \n",
    "# https://stackoverflow.com/questions/53247985/tqdm-4-28-1-in-jupyter-notebook-intprogress-not-found-please-update-jupyter-an\n",
    "from transformers import GPT2Tokenizer, GPT2LMHeadModel, Trainer, TrainingArguments\n",
    "import torchtext"
   ]
  },
  {
   "cell_type": "code",
   "execution_count": 8,
   "id": "03a2618c-5234-4df7-adf0-0aeb90ebcd7a",
   "metadata": {},
   "outputs": [],
   "source": [
    "# Download the models\n",
    "# Documentation for GPT: https://huggingface.co/transformers/model_doc/gpt2.html#gpt2lmheadmodel\n",
    "gpt_tokenizer = GPT2Tokenizer.from_pretrained('gpt2')\n",
    "gpt_model = GPT2LMHeadModel.from_pretrained('gpt2')"
   ]
  },
  {
   "cell_type": "code",
   "execution_count": 9,
   "id": "2621d1bd-c2d1-400d-932e-715815280012",
   "metadata": {},
   "outputs": [],
   "source": [
    "# Define a dataset class for language model fine-tuning, it's a generator so we don't have to store the entire dataset in memory\n",
    "class GPT2Dataset(torch.utils.data.Dataset):\n",
    "    def __init__(self, txt_list, tokenizer, max_length=max_length):\n",
    "        # Encode all the text, padding and truncuating it along with adding attention masks to get the sequence length the same across all samples\n",
    "        encodings_dict = tokenizer.batch_encode_plus(txt_list, truncation=True, max_length=max_length, padding=\"max_length\")\n",
    "        self.input_ids = encodings_dict['input_ids']\n",
    "        self.attn_masks = encodings_dict['attention_mask']\n",
    "\n",
    "    def __len__(self):\n",
    "        return len(self.input_ids)\n",
    "\n",
    "    def __getitem__(self, idx):\n",
    "        return_dict = {\"input_ids\": torch.tensor(self.input_ids[idx]),\n",
    "                       \"attention_mask\": torch.tensor(self.attn_masks[idx]), \n",
    "                       \"labels\": torch.tensor(self.input_ids[idx])} \n",
    "        return return_dict"
   ]
  },
  {
   "cell_type": "code",
   "execution_count": 10,
   "id": "12b29955-cfdc-464a-9253-0eee67524827",
   "metadata": {},
   "outputs": [],
   "source": [
    "gpt_tokenizer.pad_token = gpt_tokenizer.eos_token\n",
    "train_dataset = GPT2Dataset(X_train, gpt_tokenizer)\n",
    "val_dataset = GPT2Dataset(X_val, gpt_tokenizer)"
   ]
  },
  {
   "cell_type": "markdown",
   "id": "78855ca2-a24b-4452-b1ff-d9891f3c0e4c",
   "metadata": {},
   "source": [
    "Do fine tuning of the gpt_model using the hugging face out of the box trainer https://huggingface.co/transformers/custom_datasets.html#fine-tuning-with-trainerfrom"
   ]
  },
  {
   "cell_type": "code",
   "execution_count": 11,
   "id": "134989b8-2794-4412-9ea0-2a77d48b293d",
   "metadata": {},
   "outputs": [],
   "source": [
    "if os.path.exists(\"gpt_model.model\"):\n",
    "    gpt_model = torch.load(\"gpt_model.model\")\n",
    "else:\n",
    "    training_args = TrainingArguments(\n",
    "        output_dir='gpt_finetuning',     # output directory\n",
    "        num_train_epochs=1,              # total number of training epochs (1 is enough to get very low perplexity and perplexity increases at 2)\n",
    "        per_device_train_batch_size=4,  # batch size per device during training\n",
    "        per_device_eval_batch_size=4,   # batch size for evaluation\n",
    "        warmup_steps=500,                # number of warmup steps for learning rate scheduler\n",
    "        weight_decay=0.001,               # strength of weight decay\n",
    "        logging_dir='gpt_finetuning_logs',            # directory for storing logs\n",
    "        logging_steps=100,\n",
    "\n",
    "        # Increase the betas as the batch size is quite small so updates are very stochastic\n",
    "        adam_beta1=0.95, \n",
    "        adam_beta2=0.9995,\n",
    "        learning_rate=1e-5\n",
    "    )\n",
    "\n",
    "    trainer = Trainer(\n",
    "        model=gpt_model,                         # the instantiated 🤗 Transformers model to be trained\n",
    "        args=training_args,                  # training arguments, defined above\n",
    "        train_dataset=train_dataset,         # training dataset\n",
    "        eval_dataset=val_dataset             # evaluation dataset\n",
    "    )\n",
    "\n",
    "    trainer.train()"
   ]
  },
  {
   "cell_type": "code",
   "execution_count": 12,
   "id": "ab400612-98a3-4f41-b0a8-803963bff92e",
   "metadata": {},
   "outputs": [],
   "source": [
    "torch.save(gpt_model, \"gpt_model.model\")"
   ]
  },
  {
   "cell_type": "markdown",
   "id": "e8f6c92a-403f-43e8-8312-52edd172e04c",
   "metadata": {},
   "source": [
    "# Testing Prompt Classification\n",
    "Perform classification by adding the prompt \"In summary the movie was\" to the end of a review and classifying based on the probability of \"Good\" v.s. \"Bad\""
   ]
  },
  {
   "cell_type": "code",
   "execution_count": 12,
   "id": "4bbc1e49-7a01-48ed-9896-3bc2dfeb761c",
   "metadata": {},
   "outputs": [],
   "source": [
    "# create a new model class, takes a list of strings as input and outputs the binary classification probability p(good | review) / (p(good | review) + p(bad | review))\n",
    "class gpt_prompt(torch.nn.Module):\n",
    "    def __init__(self, gpt_model, tokenizer, prompt=\"in summary the movie was\", pos_token=\"good\", neg_token=\"bad\"):\n",
    "        super().__init__()\n",
    "        self.gpt = gpt_model.to(device)\n",
    "        self.tokenizer = tokenizer\n",
    "        self.prompt = prompt\n",
    "        self.prompt_length = len(tokenizer.encode(prompt))\n",
    "        self.pos_token = tokenizer.encode(pos_token)[0]\n",
    "        self.neg_token = tokenizer.encode(neg_token)[0]\n",
    "        \n",
    "    def forward(self, sentences):\n",
    "        # Loop through and add prompts to the sentences, then perform prediction\n",
    "        preds = []\n",
    "        for string in sentences:\n",
    "            length = len(self.tokenizer.encode(string))\n",
    "            if length + self.prompt_length <= max_length:\n",
    "                encodings_dict = self.tokenizer.encode_plus(string + \" \" + self.prompt, truncation=True, max_length=max_length, padding=\"max_length\")\n",
    "                prompt_end_idx = length + self.prompt_length - 1\n",
    "            else: # encode full sentence then replace the (truncated) end with the prompt\n",
    "                encodings_dict = self.tokenizer.encode_plus(string, truncation=True, max_length=max_length, padding=\"max_length\")\n",
    "                encodings_dict[\"input_ids\"][-self.prompt_length:] = self.tokenizer.encode(self.prompt)\n",
    "                prompt_end_idx = max_length - 1\n",
    "            preds.append(self.predict(encodings_dict, prompt_end_idx))\n",
    "            # Tests\n",
    "            # print(self.tokenizer.decode(encodings_dict[\"input_ids\"]))\n",
    "            #print(prompt_end_idx, self.tokenizer.decode(encodings_dict[\"input_ids\"][prompt_end_idx]))\n",
    "            assert self.tokenizer.decode(encodings_dict[\"input_ids\"][prompt_end_idx]) != \"<|endoftext|>\", \"Prompt_end_idx points to a padding token not the prompt\"\n",
    "        return preds\n",
    "    \n",
    "    # given an encoded sentence + prompt and the end of the prompt return binary classification probability\n",
    "    def predict(self, encodings_dict, prompt_end_idx):\n",
    "        input_ids = torch.tensor([encodings_dict[\"input_ids\"]]).long().to(device)\n",
    "        attn_mask = torch.tensor([encodings_dict[\"attention_mask\"]]).long().to(device)\n",
    "        word_preds = self.gpt(input_ids, attention_mask=attn_mask)[\"logits\"][0, prompt_end_idx, :]\n",
    "        word_preds = torch.nn.functional.softmax(word_preds, dim=0)\n",
    "        return word_preds[self.pos_token]/(word_preds[self.pos_token] + word_preds[self.neg_token]), word_preds"
   ]
  },
  {
   "cell_type": "code",
   "execution_count": 13,
   "id": "c31ed1db-2953-474e-a246-98d48c3b1ecd",
   "metadata": {
    "tags": []
   },
   "outputs": [],
   "source": [
    "prompted = gpt_prompt(gpt_model, gpt_tokenizer, prompt=\"All in all the movie was\", pos_token=\"good\", neg_token=\"bad\")\n",
    "prompted.eval()\n",
    "pass"
   ]
  },
  {
   "cell_type": "markdown",
   "id": "4db324b1-eae1-482c-9e3a-cc2df12ae506",
   "metadata": {},
   "source": [
    "## An example\n",
    "Here we view the model's prediction for the following positive review"
   ]
  },
  {
   "cell_type": "code",
   "execution_count": 17,
   "id": "d2ef3c22-0707-4b61-ad7e-981a4182a19d",
   "metadata": {},
   "outputs": [],
   "source": [
    "review = \"\"\"The unlikely duo of Zero Mostel and Harry Belafonte team up to give us some interesting performances and subject matter in The Angel Levine. \n",
    "It's one interesting twist on the themes from It's A Wonderful Life.<br /><br />Zero is married to Ida Kaminsky and the two of them belong to a special class of elderly Jewish poor in New York.\n",
    "Mostel used to be a tailor and proud of his trade, but his back and arthritis have prevented him from working. Kaminsky is mostly bedridden. He's reduced to applying for welfare. \n",
    "In desperation like Jimmy Stewart, he cries out to God for some help.<br /><br />Now maybe if he had gotten someone like Henry Travers things might have worked out differently, \n",
    "but even Stewart had trouble accepting Travers. But Travers had one thing going for him, he was over 100 years off this mortal coil and all his ties to earthly things were gone.\n",
    "God sent Mostel something quite different, the recently deceased Harry Belafonte who should have at least been given some basic training for angels before being given an assignment.<br /><br />Belafonte\n",
    "hasn't accepted he's moved on from life, he's still got a lot of issues. He also has a wife, Gloria Foster, who doesn't know he's passed on, hit by a car right at the beginning of the film. \n",
    "You put his issues and Mostel's issues and you've got a good conflict, starting with the fact that Mostel can't believe in a black Jew named Levine.<br /><br />This was the farewell performance for \n",
    "Polish/Jewish actress Ida Kaminsky who got a nomination for Best Actress in The Shop on Main Street a few years back. The other prominent role here is that of Irish actor Milo O'Shea playing a nice \n",
    "Jewish doctor. Remembering O'Shea's brogue from The Verdict, I was really surprised to see and hear him carry off the part of the doctor.<br /><br />The Angel Levine raises some interesting and \n",
    "disturbing questions about faith and race in this society. It's brought to you by a stellar cast and of course created by acclaimed writer Bernard Malamud. Make sure to catch it when broadcast.\"\"\""
   ]
  },
  {
   "cell_type": "code",
   "execution_count": 18,
   "id": "7e30b75c-b4d8-4d47-ad11-80939c6c7f38",
   "metadata": {},
   "outputs": [
    {
     "data": {
      "text/plain": [
       "474"
      ]
     },
     "execution_count": 18,
     "metadata": {},
     "output_type": "execute_result"
    }
   ],
   "source": [
    "len(gpt_tokenizer.encode(review))"
   ]
  },
  {
   "cell_type": "code",
   "execution_count": 19,
   "id": "ff9d8d40-b9db-4f0a-bbd4-2094eb5badae",
   "metadata": {},
   "outputs": [
    {
     "name": "stdout",
     "output_type": "stream",
     "text": [
      "[' a', ' very', ' great', ' an', ' the', ' so', ' just', ' one', ' nice', ' really', ' pretty', ' like', ' interesting', ' good', ' quite', ' wonderful', ' about', ' not', ',', ' funny', ' also', ' kind', ' well', ' fun', ' his', ' brilliant', ' amazing', ' excellent', ' memorable', ' beautiful', ' hilarious', ' such', ' more', ' touching', ' rather', ' enjoyable', ' almost', ' that', ' all', ' entertaining', ' fascinating', ' impressive', ' another', ' probably', ' as', ' much', ' superb', ' truly', ' painful', ' lovely', ' perfect', ' too', ' remarkable', ' to', ' fantastic', ' in', ' this', ' extremely', ' amusing', ' going', ' full', ' worth', ' somewhat', ' what', ' especially', ' done', ' surreal', ' way', ' only', ' something', ' fairly', ' better', ' delightful', ' enough', ' awesome', ' made', ' her', ' simply', ' even', ' pure', ' moving', ' bad', ' hard', ' mostly', ' actually', ' some', ' supposed', ' fine', ' no', ' particularly', ' incredible', ' meant', ' exciting', ' incredibly', ' bitters', ' nothing', ' over', ' by', ' still', ' special']\n",
      "Positive likelihood: tensor(0.9133, device='cuda:0')\n"
     ]
    }
   ],
   "source": [
    "with torch.no_grad():\n",
    "    results = prompted.forward([review])\n",
    "    result = results[0][1].cpu().numpy()\n",
    "    r = list(np.argsort(result)[::-1][:100])\n",
    "    print([gpt_tokenizer.decode([x]) for x in r])\n",
    "    print(\"Positive likelihood:\", results[0][0])"
   ]
  },
  {
   "cell_type": "markdown",
   "id": "1de2cc71-85e6-4161-b3c0-2fcd28b8cdec",
   "metadata": {},
   "source": [
    "We can see the most likely words (near the start of the list)  are positive e.g. \"great\", \"excellent\", \"good\". Whereas negative words such as \"mediocre\" and \"boring\" are much lower"
   ]
  },
  {
   "cell_type": "code",
   "execution_count": 20,
   "id": "11c02887-73e5-4af1-b162-7c0deb9711fb",
   "metadata": {},
   "outputs": [],
   "source": [
    "torch.cuda.empty_cache()"
   ]
  },
  {
   "cell_type": "markdown",
   "id": "f4692123-0c81-4cd0-a400-3b31260eb981",
   "metadata": {},
   "source": [
    "## Accuracy evaluation and threshold tuning\n",
    "Here we find the optimal prediction threshold, as our positive token good has a higher base chance of appearing than bad which means with a threshold of 0.5 the model tends to predict all samples as positive"
   ]
  },
  {
   "cell_type": "code",
   "execution_count": 21,
   "id": "022d6efd-756d-4fcb-b3d8-3c85f77d47d8",
   "metadata": {},
   "outputs": [],
   "source": [
    "def predict(data):\n",
    "    with torch.no_grad():\n",
    "        preds = prompted.forward(data)\n",
    "        preds = list(zip(*preds))[0]\n",
    "        preds = torch.tensor(preds).cpu().numpy()\n",
    "    return preds"
   ]
  },
  {
   "cell_type": "code",
   "execution_count": 22,
   "id": "99ae02d0-fc32-4cd2-b236-08b54f8eb83a",
   "metadata": {},
   "outputs": [
    {
     "name": "stderr",
     "output_type": "stream",
     "text": [
      "Token indices sequence length is longer than the specified maximum sequence length for this model (1076 > 1024). Running this sequence through the model will result in indexing errors\n"
     ]
    },
    {
     "name": "stdout",
     "output_type": "stream",
     "text": [
      "Test set accuracy before tuning: 0.6324\n"
     ]
    }
   ],
   "source": [
    "prompted.eval()\n",
    "print(\"Test set accuracy before tuning: {}\".format(accuracy_score(y_test, predict(X_test) > 0.5)))"
   ]
  },
  {
   "cell_type": "code",
   "execution_count": 23,
   "id": "0eda797e-fc60-407b-807e-460035cce628",
   "metadata": {},
   "outputs": [],
   "source": [
    "preds = predict(X_val)\n",
    "thresholds = np.arange(0, 1, 0.01)\n",
    "accuracies = []\n",
    "for t in thresholds:\n",
    "    binary_preds = preds > t\n",
    "    accuracies.append(accuracy_score(y_val, binary_preds))"
   ]
  },
  {
   "cell_type": "code",
   "execution_count": 24,
   "id": "0bbd0246-4260-4c29-bab6-25095d3f4382",
   "metadata": {},
   "outputs": [
    {
     "data": {
      "image/png": "[encoded data removed]",
      "text/plain": [
       "<Figure size 432x288 with 1 Axes>"
      ]
     },
     "metadata": {
      "needs_background": "light"
     },
     "output_type": "display_data"
    }
   ],
   "source": [
    "plt.plot(thresholds, accuracies)\n",
    "plt.title(\"Effect of changing prediction threshold on validation set accuracy\")\n",
    "plt.ylabel(\"Accuracy\")\n",
    "plt.xlabel(\"Threshold\")\n",
    "plt.show()"
   ]
  },
  {
   "cell_type": "code",
   "execution_count": 25,
   "id": "c10a50bb-8c66-42bc-9be1-a0214093cdf4",
   "metadata": {},
   "outputs": [
    {
     "name": "stdout",
     "output_type": "stream",
     "text": [
      "Best threshold: 0.8300000000000001\n"
     ]
    }
   ],
   "source": [
    "best_threshold = thresholds[np.argmax(accuracies)]\n",
    "print(\"Best threshold: {}\".format(best_threshold))"
   ]
  },
  {
   "cell_type": "code",
   "execution_count": 26,
   "id": "a755650e-3379-4ae1-8821-611e9006d63e",
   "metadata": {},
   "outputs": [
    {
     "name": "stdout",
     "output_type": "stream",
     "text": [
      "Test set accuracy with threshold tuning (requiring 5000 labelled samples): 0.8224\n"
     ]
    }
   ],
   "source": [
    "prompted.eval()\n",
    "print(\"Test set accuracy with threshold tuning (requiring {} labelled samples): {}\".format(len(X_val), accuracy_score(y_test, predict(X_test) > best_threshold)))"
   ]
  },
  {
   "cell_type": "markdown",
   "id": "2633d2b7-1480-4a97-830f-6ad1b51bd6da",
   "metadata": {},
   "source": [
    "# Few Shot Learning\n",
    "Now we see the effect of training the prompted model using only a few labelled samples (e.g. 20), not the entire validation set to tune the threshold"
   ]
  },
  {
   "cell_type": "code",
   "execution_count": 27,
   "id": "df65c810-fcc7-4083-872d-02d020f868ca",
   "metadata": {},
   "outputs": [
    {
     "name": "stdout",
     "output_type": "stream",
     "text": [
      "Epoch 0 Train Loss: 0.6975820660591125 Validation Accuracy: 0.79\n",
      "Epoch 1 Train Loss: 0.002826210344210267 Validation Accuracy: 0.8\n",
      "Epoch 2 Train Loss: 0.004467617720365524 Validation Accuracy: 0.82\n",
      "Epoch 3 Train Loss: 0.0010386136127635837 Validation Accuracy: 0.84\n",
      "Epoch 4 Train Loss: 0.0007217149832285941 Validation Accuracy: 0.84\n",
      "Epoch 5 Train Loss: 0.0003348553436808288 Validation Accuracy: 0.84\n",
      "Epoch 6 Train Loss: 0.0005014603957533836 Validation Accuracy: 0.85\n",
      "Epoch 7 Train Loss: 0.0003245403349865228 Validation Accuracy: 0.85\n",
      "Epoch 8 Train Loss: 0.00043502970947884023 Validation Accuracy: 0.86\n",
      "Epoch 9 Train Loss: 0.00023206780315376818 Validation Accuracy: 0.85\n"
     ]
    }
   ],
   "source": [
    "# sample a few training examples\n",
    "n_samples = 20\n",
    "fine_tune_idx = np.random.choice(len(X_train), size=n_samples)\n",
    "fine_tune_x = X_train[fine_tune_idx]\n",
    "fine_tune_y = torch.tensor(y_train[fine_tune_idx]).float().to(device)\n",
    "\n",
    "optimizer = torch.optim.Adam(prompted.parameters(), lr=1e-5, betas=(0.95, 0.9995))\n",
    "loss_func = torch.nn.BCELoss()\n",
    "\n",
    "for epoch in range(10):  \n",
    "    prompted.train()\n",
    "    for i in range(len(fine_tune_x)):\n",
    "        prompted.zero_grad()\n",
    "        preds = prompted(fine_tune_x[i:i+1])\n",
    "        loss = loss_func(preds[0][0], fine_tune_y[i])\n",
    "        loss.backward()\n",
    "        optimizer.step()\n",
    "        \n",
    "    prompted.eval()\n",
    "    accuracy = accuracy_score(y_val[:100], predict(X_val[:100]) > 0.5)\n",
    "    print(\"Epoch {} Train Loss: {} Validation Accuracy: {}\".format(epoch, loss, accuracy))"
   ]
  },
  {
   "cell_type": "code",
   "execution_count": 28,
   "id": "d8808ca8-3c8e-4047-8b4e-3301e22098c1",
   "metadata": {},
   "outputs": [
    {
     "name": "stdout",
     "output_type": "stream",
     "text": [
      "Test set accuracy with few shot learning (requiring 20 labelled samples): 0.8998\n"
     ]
    }
   ],
   "source": [
    "prompted.eval()\n",
    "print(\"Test set accuracy with few shot learning (requiring {} labelled samples): {}\".format(n_samples, accuracy_score(y_test, predict(X_test) > 0.5)))"
   ]
  }
 ],
 "metadata": {
  "kernelspec": {
   "display_name": "Python 3",
   "language": "python",
   "name": "python3"
  },
  "language_info": {
   "codemirror_mode": {
    "name": "ipython",
    "version": 3
   },
   "file_extension": ".py",
   "mimetype": "text/x-python",
   "name": "python",
   "nbconvert_exporter": "python",
   "pygments_lexer": "ipython3",
   "version": "3.8.8"
  }
 },
 "nbformat": 4,
 "nbformat_minor": 5
}
