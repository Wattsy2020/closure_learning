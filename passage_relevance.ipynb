{
 "cells": [
  {
   "cell_type": "markdown",
   "id": "04a93a5a-3c24-44c8-a9d6-c7b29fb86607",
   "metadata": {},
   "source": [
    "Uses a prompted BERT to learn a metric between passage and query with the goal of solving the passage retrieval task in MS MARCO https://microsoft.github.io/msmarco/"
   ]
  },
  {
   "cell_type": "code",
   "execution_count": 1,
   "id": "d2566239-c09d-4414-85ab-0d50a15a924a",
   "metadata": {},
   "outputs": [],
   "source": [
    "import torch\n",
    "import os\n",
    "import pandas as pd\n",
    "import numpy as np\n",
    "import matplotlib.pyplot as plt\n",
    "from sklearn.model_selection import train_test_split\n",
    "from sklearn.metrics import accuracy_score\n",
    "from transformers import BertModel, BertTokenizer\n",
    "device = \"cuda\" if torch.cuda.is_available() else \"cpu\""
   ]
  },
  {
   "cell_type": "markdown",
   "id": "81c0a87e-7bb8-4fa8-b8c4-d5b977401d8e",
   "metadata": {},
   "source": [
    "# Data Exploration\n",
    "The dataset is massive, near 26GB. Note we use the triples version of the dataset, designed to be convenient for training, which provides triples of the form (query, relevant passage, non relevant passage)"
   ]
  },
  {
   "cell_type": "code",
   "execution_count": 2,
   "id": "13158235-9e85-4400-8ad8-08cf6b33b951",
   "metadata": {},
   "outputs": [
    {
     "data": {
      "text/html": [
       "<div>\n",
       "<style scoped>\n",
       "    .dataframe tbody tr th:only-of-type {\n",
       "        vertical-align: middle;\n",
       "    }\n",
       "\n",
       "    .dataframe tbody tr th {\n",
       "        vertical-align: top;\n",
       "    }\n",
       "\n",
       "    .dataframe thead th {\n",
       "        text-align: right;\n",
       "    }\n",
       "</style>\n",
       "<table border=\"1\" class=\"dataframe\">\n",
       "  <thead>\n",
       "    <tr style=\"text-align: right;\">\n",
       "      <th></th>\n",
       "      <th>query</th>\n",
       "      <th>positive</th>\n",
       "      <th>negative</th>\n",
       "    </tr>\n",
       "  </thead>\n",
       "  <tbody>\n",
       "    <tr>\n",
       "      <th>0</th>\n",
       "      <td>is a little caffeine ok during pregnancy</td>\n",
       "      <td>We donât know a lot about the effects of caf...</td>\n",
       "      <td>It is generally safe for pregnant women to eat...</td>\n",
       "    </tr>\n",
       "    <tr>\n",
       "      <th>1</th>\n",
       "      <td>what fruit is native to australia</td>\n",
       "      <td>Passiflora herbertiana. A rare passion fruit n...</td>\n",
       "      <td>The kola nut is the fruit of the kola tree, a ...</td>\n",
       "    </tr>\n",
       "    <tr>\n",
       "      <th>2</th>\n",
       "      <td>how large is the canadian military</td>\n",
       "      <td>The Canadian Armed Forces. 1  The first large-...</td>\n",
       "      <td>The Canadian Physician Health Institute (CPHI)...</td>\n",
       "    </tr>\n",
       "    <tr>\n",
       "      <th>3</th>\n",
       "      <td>types of fruit trees</td>\n",
       "      <td>Cherry. Cherry trees are found throughout the ...</td>\n",
       "      <td>The kola nut is the fruit of the kola tree, a ...</td>\n",
       "    </tr>\n",
       "    <tr>\n",
       "      <th>4</th>\n",
       "      <td>how many calories a day are lost breastfeeding</td>\n",
       "      <td>Not only is breastfeeding better for the baby,...</td>\n",
       "      <td>However, you still need some niacin each day; ...</td>\n",
       "    </tr>\n",
       "    <tr>\n",
       "      <th>...</th>\n",
       "      <td>...</td>\n",
       "      <td>...</td>\n",
       "      <td>...</td>\n",
       "    </tr>\n",
       "    <tr>\n",
       "      <th>9995</th>\n",
       "      <td>what does petsmart pay part time</td>\n",
       "      <td>Petsmart-About $7 (for a grooming bather or ca...</td>\n",
       "      <td>What is double-time pay? Double-time pay is a ...</td>\n",
       "    </tr>\n",
       "    <tr>\n",
       "      <th>9996</th>\n",
       "      <td>what does dystopian mean</td>\n",
       "      <td>Top definition. dystopian. A dystopia (alterna...</td>\n",
       "      <td>(film) Equilibrium is a 2002 American dystopia...</td>\n",
       "    </tr>\n",
       "    <tr>\n",
       "      <th>9997</th>\n",
       "      <td>when is a partnership return due</td>\n",
       "      <td>1 Partnership and S Corporation tax returns wi...</td>\n",
       "      <td>â¢ With decreased stroke volume, due to decre...</td>\n",
       "    </tr>\n",
       "    <tr>\n",
       "      <th>9998</th>\n",
       "      <td>what type of cable is used between switches ?</td>\n",
       "      <td>No thats not possible. Only if you have auto-m...</td>\n",
       "      <td>1-16 of 1,177 results for verizon network type...</td>\n",
       "    </tr>\n",
       "    <tr>\n",
       "      <th>9999</th>\n",
       "      <td>what type of charge is trespassing</td>\n",
       "      <td>If the criminal trespassing charge is a less s...</td>\n",
       "      <td>1-16 of 1,177 results for verizon network type...</td>\n",
       "    </tr>\n",
       "  </tbody>\n",
       "</table>\n",
       "<p>10000 rows × 3 columns</p>\n",
       "</div>"
      ],
      "text/plain": [
       "                                               query  \\\n",
       "0           is a little caffeine ok during pregnancy   \n",
       "1                  what fruit is native to australia   \n",
       "2                 how large is the canadian military   \n",
       "3                               types of fruit trees   \n",
       "4     how many calories a day are lost breastfeeding   \n",
       "...                                              ...   \n",
       "9995                what does petsmart pay part time   \n",
       "9996                        what does dystopian mean   \n",
       "9997                when is a partnership return due   \n",
       "9998   what type of cable is used between switches ?   \n",
       "9999              what type of charge is trespassing   \n",
       "\n",
       "                                               positive  \\\n",
       "0     We donât know a lot about the effects of caf...   \n",
       "1     Passiflora herbertiana. A rare passion fruit n...   \n",
       "2     The Canadian Armed Forces. 1  The first large-...   \n",
       "3     Cherry. Cherry trees are found throughout the ...   \n",
       "4     Not only is breastfeeding better for the baby,...   \n",
       "...                                                 ...   \n",
       "9995  Petsmart-About $7 (for a grooming bather or ca...   \n",
       "9996  Top definition. dystopian. A dystopia (alterna...   \n",
       "9997  1 Partnership and S Corporation tax returns wi...   \n",
       "9998  No thats not possible. Only if you have auto-m...   \n",
       "9999  If the criminal trespassing charge is a less s...   \n",
       "\n",
       "                                               negative  \n",
       "0     It is generally safe for pregnant women to eat...  \n",
       "1     The kola nut is the fruit of the kola tree, a ...  \n",
       "2     The Canadian Physician Health Institute (CPHI)...  \n",
       "3     The kola nut is the fruit of the kola tree, a ...  \n",
       "4     However, you still need some niacin each day; ...  \n",
       "...                                                 ...  \n",
       "9995  What is double-time pay? Double-time pay is a ...  \n",
       "9996  (film) Equilibrium is a 2002 American dystopia...  \n",
       "9997  â¢ With decreased stroke volume, due to decre...  \n",
       "9998  1-16 of 1,177 results for verizon network type...  \n",
       "9999  1-16 of 1,177 results for verizon network type...  \n",
       "\n",
       "[10000 rows x 3 columns]"
      ]
     },
     "execution_count": 2,
     "metadata": {},
     "output_type": "execute_result"
    }
   ],
   "source": [
    "df = pd.read_csv('Datasets/triples.train.small.tsv', sep='\\t', nrows=10000, # only read a small sample of the data for now \n",
    "                 names=[\"query\", \"positive\", \"negative\"], encoding=\"utf-8\") \n",
    "df"
   ]
  },
  {
   "cell_type": "code",
   "execution_count": 3,
   "id": "f397cbb1-9ea1-4248-83d6-35db306d2eb5",
   "metadata": {},
   "outputs": [
    {
     "data": {
      "text/plain": [
       "'We donâ\\x80\\x99t know a lot about the effects of caffeine during pregnancy on you and your baby. So itâ\\x80\\x99s best to limit the amount you get each day. If youâ\\x80\\x99re pregnant, limit caffeine to 200 milligrams each day. This is about the amount in 1Â½ 8-ounce cups of coffee or one 12-ounce cup of coffee.'"
      ]
     },
     "execution_count": 3,
     "metadata": {},
     "output_type": "execute_result"
    }
   ],
   "source": [
    "df.iloc[0][\"positive\"]"
   ]
  },
  {
   "cell_type": "code",
   "execution_count": 4,
   "id": "5d0ffe25-f6e1-4cb9-9226-4b2fef3ed859",
   "metadata": {},
   "outputs": [
    {
     "data": {
      "image/png": "[encoded data removed]",
      "text/plain": [
       "<Figure size 432x288 with 1 Axes>"
      ]
     },
     "metadata": {
      "needs_background": "light"
     },
     "output_type": "display_data"
    }
   ],
   "source": [
    "# plot a passage length histogram\n",
    "tokenizer = BertTokenizer.from_pretrained('bert-base-uncased')\n",
    "lengths = df[\"positive\"].apply(lambda x: len(tokenizer.encode(x)))\n",
    "plt.hist(lengths, bins=100)\n",
    "plt.show()"
   ]
  },
  {
   "cell_type": "code",
   "execution_count": 5,
   "id": "f67f9755-cb10-4b2e-8f3d-e4117bfa1e14",
   "metadata": {},
   "outputs": [],
   "source": [
    "max_length=256 # from the plot we can see a batch size of 256 is more than enough to represent most passages"
   ]
  },
  {
   "cell_type": "code",
   "execution_count": 6,
   "id": "c5f9d476-6425-49e6-b1d5-4074cd995556",
   "metadata": {},
   "outputs": [],
   "source": [
    "# Create a train test split by first creating a dataset with query, sample and label. Then splitting it\n",
    "positive = df[[\"query\", \"positive\"]].rename(columns={\"positive\": \"passage\"})\n",
    "positive[\"label\"] = 1\n",
    "negative = df[[\"query\", \"negative\"]].rename(columns={\"negative\": \"passage\"})\n",
    "negative[\"label\"] = 0\n",
    "dataset = pd.concat([positive, negative], axis=0).reset_index(drop=True)\n",
    "dataset = dataset.sample(20000, replace=False)\n",
    "X_train, X_test, y_train, y_test = train_test_split(dataset[[\"query\", \"passage\"]], np.array(dataset[\"label\"]), test_size=0.2)"
   ]
  },
  {
   "cell_type": "code",
   "execution_count": 7,
   "id": "19502ce5-9ec3-4c12-b92a-bd9b67176c6f",
   "metadata": {},
   "outputs": [
    {
     "data": {
      "text/html": [
       "<div>\n",
       "<style scoped>\n",
       "    .dataframe tbody tr th:only-of-type {\n",
       "        vertical-align: middle;\n",
       "    }\n",
       "\n",
       "    .dataframe tbody tr th {\n",
       "        vertical-align: top;\n",
       "    }\n",
       "\n",
       "    .dataframe thead th {\n",
       "        text-align: right;\n",
       "    }\n",
       "</style>\n",
       "<table border=\"1\" class=\"dataframe\">\n",
       "  <thead>\n",
       "    <tr style=\"text-align: right;\">\n",
       "      <th></th>\n",
       "      <th>query</th>\n",
       "      <th>passage</th>\n",
       "    </tr>\n",
       "  </thead>\n",
       "  <tbody>\n",
       "    <tr>\n",
       "      <th>13877</th>\n",
       "      <td>iterator value for an empty list</td>\n",
       "      <td>Turns out I can get a loose leaf visa for Viet...</td>\n",
       "    </tr>\n",
       "    <tr>\n",
       "      <th>13186</th>\n",
       "      <td>steelers who died of cte</td>\n",
       "      <td>In fact, seven NFL teams have no cheerleaders ...</td>\n",
       "    </tr>\n",
       "    <tr>\n",
       "      <th>1586</th>\n",
       "      <td>who starred in play misty for me</td>\n",
       "      <td>Play Misty For Me (1971), Clint Eastwood's fir...</td>\n",
       "    </tr>\n",
       "    <tr>\n",
       "      <th>10849</th>\n",
       "      <td>spirit animal butterfly meaning</td>\n",
       "      <td>Freedom is the most sacred and spiritual meani...</td>\n",
       "    </tr>\n",
       "    <tr>\n",
       "      <th>685</th>\n",
       "      <td>new york mammal is called</td>\n",
       "      <td>Bounding is one typeof jumping. Rabbits, squir...</td>\n",
       "    </tr>\n",
       "    <tr>\n",
       "      <th>...</th>\n",
       "      <td>...</td>\n",
       "      <td>...</td>\n",
       "    </tr>\n",
       "    <tr>\n",
       "      <th>18143</th>\n",
       "      <td>hipster synonym</td>\n",
       "      <td>Synonym(s): tegument (2) 1  Synonym(s): integu...</td>\n",
       "    </tr>\n",
       "    <tr>\n",
       "      <th>6549</th>\n",
       "      <td>where does the mississippi river run.</td>\n",
       "      <td>The Mississippi River is 3,000 miles long and ...</td>\n",
       "    </tr>\n",
       "    <tr>\n",
       "      <th>14412</th>\n",
       "      <td>what is a resting tremor</td>\n",
       "      <td>For most people a resting heart rate of 57 is ...</td>\n",
       "    </tr>\n",
       "    <tr>\n",
       "      <th>5770</th>\n",
       "      <td>what is considered domestic violence</td>\n",
       "      <td>Any abusive, violent, coercive, forceful, or t...</td>\n",
       "    </tr>\n",
       "    <tr>\n",
       "      <th>8791</th>\n",
       "      <td>how long does it take to become a oncology nurse</td>\n",
       "      <td>To become an oncology nurse practitioner, you ...</td>\n",
       "    </tr>\n",
       "  </tbody>\n",
       "</table>\n",
       "<p>16000 rows × 2 columns</p>\n",
       "</div>"
      ],
      "text/plain": [
       "                                                  query  \\\n",
       "13877                  iterator value for an empty list   \n",
       "13186                          steelers who died of cte   \n",
       "1586                   who starred in play misty for me   \n",
       "10849                   spirit animal butterfly meaning   \n",
       "685                           new york mammal is called   \n",
       "...                                                 ...   \n",
       "18143                                   hipster synonym   \n",
       "6549              where does the mississippi river run.   \n",
       "14412                          what is a resting tremor   \n",
       "5770               what is considered domestic violence   \n",
       "8791   how long does it take to become a oncology nurse   \n",
       "\n",
       "                                                 passage  \n",
       "13877  Turns out I can get a loose leaf visa for Viet...  \n",
       "13186  In fact, seven NFL teams have no cheerleaders ...  \n",
       "1586   Play Misty For Me (1971), Clint Eastwood's fir...  \n",
       "10849  Freedom is the most sacred and spiritual meani...  \n",
       "685    Bounding is one typeof jumping. Rabbits, squir...  \n",
       "...                                                  ...  \n",
       "18143  Synonym(s): tegument (2) 1  Synonym(s): integu...  \n",
       "6549   The Mississippi River is 3,000 miles long and ...  \n",
       "14412  For most people a resting heart rate of 57 is ...  \n",
       "5770   Any abusive, violent, coercive, forceful, or t...  \n",
       "8791   To become an oncology nurse practitioner, you ...  \n",
       "\n",
       "[16000 rows x 2 columns]"
      ]
     },
     "execution_count": 7,
     "metadata": {},
     "output_type": "execute_result"
    }
   ],
   "source": [
    "X_train"
   ]
  },
  {
   "cell_type": "markdown",
   "id": "c8cf4451-7484-48ea-8e5f-a1a36fea17e9",
   "metadata": {},
   "source": [
    "# Modelling\n",
    "Define the dataset class and a BERT_prompt class, with prompting logic in the dataset for speed"
   ]
  },
  {
   "cell_type": "code",
   "execution_count": 8,
   "id": "b5809a0e-71ab-4935-ba97-755083ca1e59",
   "metadata": {},
   "outputs": [
    {
     "name": "stderr",
     "output_type": "stream",
     "text": [
      "Some weights of the model checkpoint at bert-base-uncased were not used when initializing BertModel: ['cls.predictions.transform.LayerNorm.bias', 'cls.predictions.transform.LayerNorm.weight', 'cls.predictions.transform.dense.weight', 'cls.predictions.transform.dense.bias', 'cls.seq_relationship.bias', 'cls.seq_relationship.weight', 'cls.predictions.decoder.weight', 'cls.predictions.bias']\n",
      "- This IS expected if you are initializing BertModel from the checkpoint of a model trained on another task or with another architecture (e.g. initializing a BertForSequenceClassification model from a BertForPreTraining model).\n",
      "- This IS NOT expected if you are initializing BertModel from the checkpoint of a model that you expect to be exactly identical (initializing a BertForSequenceClassification model from a BertForSequenceClassification model).\n"
     ]
    }
   ],
   "source": [
    "bert = BertModel.from_pretrained('bert-base-uncased')"
   ]
  },
  {
   "cell_type": "code",
   "execution_count": 9,
   "id": "28db62b9-4940-463f-86bf-dca165c6435e",
   "metadata": {},
   "outputs": [
    {
     "data": {
      "text/plain": [
       "[101, 7592, 103, 102]"
      ]
     },
     "execution_count": 9,
     "metadata": {},
     "output_type": "execute_result"
    }
   ],
   "source": [
    "tokenizer.encode(\"Hello \" + tokenizer.mask_token)"
   ]
  },
  {
   "cell_type": "code",
   "execution_count": 10,
   "id": "6619ef60-6bff-42b7-866b-27ed2fd1e2f6",
   "metadata": {},
   "outputs": [],
   "source": [
    "# Define a dataset class for prompted BERT fine tuning\n",
    "# The dataset takes in query and passage, and then construct a training sample as: <query> + <prompt> + [MASK] + <passage>, returning the position of the mask\n",
    "# It also performs padding and stores the labels\n",
    "class BERTPromptDataset(torch.utils.data.Dataset):\n",
    "    def __init__(self, dataset, labels, tokenizer, prompt=\"Is the following text relevant?\", max_length=max_length):\n",
    "        # Construct the input sentence\n",
    "        input_sentences = [\"{}. {} {} {}\".format(query, prompt, tokenizer.mask_token, passage) for _, (query, passage) in dataset.iterrows()]\n",
    "        \n",
    "        # Encode and store\n",
    "        encodings_dict = tokenizer.batch_encode_plus(input_sentences, truncation=True, max_length=max_length, padding=\"max_length\")\n",
    "        self.input_ids = encodings_dict['input_ids']\n",
    "        self.attn_masks = encodings_dict['attention_mask']\n",
    "        self.labels = labels\n",
    "\n",
    "        # Calculate the position of the mask using self.input_ids\n",
    "        mask_id = tokenizer.encode(tokenizer.mask_token)[1] # 103\n",
    "        self.mask_pos = [sent_ids.index(mask_id) for sent_ids in self.input_ids]\n",
    "        \n",
    "        \n",
    "    def __len__(self):\n",
    "        return len(self.input_ids)\n",
    "\n",
    "    def __getitem__(self, idx):\n",
    "        return_dict = {\"input_ids\": torch.tensor(self.input_ids[idx]),\n",
    "                       \"attention_mask\": torch.tensor(self.attn_masks[idx]), \n",
    "                       \"mask_pos\": torch.tensor(self.mask_pos[idx]),\n",
    "                       \"labels\": torch.tensor(self.input_ids[idx])} \n",
    "        return return_dict"
   ]
  },
  {
   "cell_type": "code",
   "execution_count": 11,
   "id": "8eda4e54-2b13-4c15-9e73-e88b0dfac008",
   "metadata": {},
   "outputs": [
    {
     "data": {
      "text/plain": [
       "{'input_ids': tensor([[  101,  2009,  6906,  ...,     0,     0,     0],\n",
       "         [  101, 15280,  2040,  ...,     0,     0,     0],\n",
       "         [  101,  2040,  5652,  ...,     0,     0,     0],\n",
       "         ...,\n",
       "         [  101,  3465,  2000,  ...,     0,     0,     0],\n",
       "         [  101,  2054,  2106,  ...,     0,     0,     0],\n",
       "         [  101,  2129,  2020,  ...,     0,     0,     0]]),\n",
       " 'attention_mask': tensor([[1, 1, 1,  ..., 0, 0, 0],\n",
       "         [1, 1, 1,  ..., 0, 0, 0],\n",
       "         [1, 1, 1,  ..., 0, 0, 0],\n",
       "         ...,\n",
       "         [1, 1, 1,  ..., 0, 0, 0],\n",
       "         [1, 1, 1,  ..., 0, 0, 0],\n",
       "         [1, 1, 1,  ..., 0, 0, 0]]),\n",
       " 'mask_pos': tensor([16, 14, 15, 12, 13, 20, 13, 13, 17, 15]),\n",
       " 'labels': tensor([[  101,  2009,  6906,  ...,     0,     0,     0],\n",
       "         [  101, 15280,  2040,  ...,     0,     0,     0],\n",
       "         [  101,  2040,  5652,  ...,     0,     0,     0],\n",
       "         ...,\n",
       "         [  101,  3465,  2000,  ...,     0,     0,     0],\n",
       "         [  101,  2054,  2106,  ...,     0,     0,     0],\n",
       "         [  101,  2129,  2020,  ...,     0,     0,     0]])}"
      ]
     },
     "execution_count": 11,
     "metadata": {},
     "output_type": "execute_result"
    }
   ],
   "source": [
    "dataset = BERTPromptDataset(X_train, y_train, tokenizer)\n",
    "dataset[0:10]"
   ]
  },
  {
   "cell_type": "code",
   "execution_count": 37,
   "id": "742873b5-416c-45ed-8e67-3a5b14c41b74",
   "metadata": {},
   "outputs": [],
   "source": [
    "# Class that expects a prompted input from the BERTPromptDataset\n",
    "# Takes the input, forward propagates it through BERT and concatenates the output at the [MASK] and [CLS] token to get a representation of the text\n",
    "# This is then passed to a linear head to perform binary classification for how relevant it is\n",
    "class BERTPrompt(torch.nn.Module):\n",
    "    def __init__(self, bert, tokenizer):\n",
    "        super().__init__()\n",
    "        self.bert = bert.cuda()\n",
    "        self.tokenizer = tokenizer\n",
    "        self.linear = torch.nn.Linear(768*2, 1).cuda()\n",
    "        \n",
    "    # input_dict is obtained through indexing the dataset e.g. dataset[0:10]\n",
    "    def forward(self, input_dict):\n",
    "        output = self.bert(input_dict[\"input_ids\"].cuda(), attention_mask=input_dict['attention_mask'].cuda())[0] # output is of shape [10, 256, 768]\n",
    "        cls_out = output[:, 0, :]\n",
    "        mask_out = output[torch.arange(cls_out.shape[0]).cuda(), input_dict[\"mask_pos\"].cuda(), :] # indexing like [[0, 1], [13, 14]] will select items [[0, 13], [1, 14]]\n",
    "        \n",
    "        representation = torch.cat([cls_out, mask_out], dim=1)\n",
    "        logit = self.linear(representation)\n",
    "        return logit"
   ]
  },
  {
   "cell_type": "code",
   "execution_count": 38,
   "id": "b26ff588-637e-44d0-8f65-e57f966efc38",
   "metadata": {},
   "outputs": [],
   "source": [
    "bert_prompt = BERTPrompt(bert, tokenizer)"
   ]
  },
  {
   "cell_type": "code",
   "execution_count": 39,
   "id": "01658e0b-45b4-451a-863d-ade62d1d6156",
   "metadata": {},
   "outputs": [
    {
     "data": {
      "text/plain": [
       "tensor([[-0.4518],\n",
       "        [-0.1630],\n",
       "        [-0.1928],\n",
       "        [-0.2144],\n",
       "        [ 0.1710],\n",
       "        [-0.0614],\n",
       "        [-0.2812],\n",
       "        [ 0.0138],\n",
       "        [-0.2803],\n",
       "        [-0.3146]], device='cuda:0')"
      ]
     },
     "execution_count": 39,
     "metadata": {},
     "output_type": "execute_result"
    }
   ],
   "source": [
    "with torch.no_grad():\n",
    "    output = bert_prompt.forward(dataset[:10])\n",
    "output"
   ]
  },
  {
   "cell_type": "code",
   "execution_count": null,
   "id": "7d2b9af6-dfcb-4548-8d63-1c712841472b",
   "metadata": {},
   "outputs": [],
   "source": []
  }
 ],
 "metadata": {
  "kernelspec": {
   "display_name": "Python 3",
   "language": "python",
   "name": "python3"
  },
  "language_info": {
   "codemirror_mode": {
    "name": "ipython",
    "version": 3
   },
   "file_extension": ".py",
   "mimetype": "text/x-python",
   "name": "python",
   "nbconvert_exporter": "python",
   "pygments_lexer": "ipython3",
   "version": "3.8.8"
  }
 },
 "nbformat": 4,
 "nbformat_minor": 5
}
